{
 "cells": [
  {
   "cell_type": "markdown",
   "id": "e737e7b7",
   "metadata": {
    "papermill": {
     "duration": 0.004476,
     "end_time": "2022-09-02T21:14:59.382265",
     "exception": false,
     "start_time": "2022-09-02T21:14:59.377789",
     "status": "completed"
    },
    "tags": []
   },
   "source": [
    "# Conclusion for my analysis\n"
   ]
  },
  {
   "cell_type": "code",
   "execution_count": 1,
   "id": "3280ba0f",
   "metadata": {
    "_cell_guid": "b1076dfc-b9ad-4769-8c92-a6c4dae69d19",
    "_uuid": "8f2839f25d086af736a60e9eeb907d3b93b6e0e5",
    "execution": {
     "iopub.execute_input": "2022-09-02T21:14:59.390902Z",
     "iopub.status.busy": "2022-09-02T21:14:59.390470Z",
     "iopub.status.idle": "2022-09-02T21:14:59.442514Z",
     "shell.execute_reply": "2022-09-02T21:14:59.441385Z"
    },
    "papermill": {
     "duration": 0.059493,
     "end_time": "2022-09-02T21:14:59.445206",
     "exception": false,
     "start_time": "2022-09-02T21:14:59.385713",
     "status": "completed"
    },
    "tags": []
   },
   "outputs": [
    {
     "data": {
      "text/html": [
       "<div>\n",
       "<style scoped>\n",
       "    .dataframe tbody tr th:only-of-type {\n",
       "        vertical-align: middle;\n",
       "    }\n",
       "\n",
       "    .dataframe tbody tr th {\n",
       "        vertical-align: top;\n",
       "    }\n",
       "\n",
       "    .dataframe thead th {\n",
       "        text-align: right;\n",
       "    }\n",
       "</style>\n",
       "<table border=\"1\" class=\"dataframe\">\n",
       "  <thead>\n",
       "    <tr style=\"text-align: right;\">\n",
       "      <th></th>\n",
       "      <th>Name</th>\n",
       "      <th>Author</th>\n",
       "      <th>User Rating</th>\n",
       "      <th>Reviews</th>\n",
       "      <th>Price</th>\n",
       "      <th>Price_r</th>\n",
       "      <th>Year</th>\n",
       "      <th>Genre</th>\n",
       "    </tr>\n",
       "  </thead>\n",
       "  <tbody>\n",
       "    <tr>\n",
       "      <th>0</th>\n",
       "      <td>10-Day Green Smoothie Cleanse</td>\n",
       "      <td>JJ Smith</td>\n",
       "      <td>4.7</td>\n",
       "      <td>17,350</td>\n",
       "      <td>$8.00</td>\n",
       "      <td>$8</td>\n",
       "      <td>2016</td>\n",
       "      <td>Non Fiction</td>\n",
       "    </tr>\n",
       "    <tr>\n",
       "      <th>1</th>\n",
       "      <td>11/22/63: A Novel</td>\n",
       "      <td>Stephen King</td>\n",
       "      <td>4.6</td>\n",
       "      <td>2,052</td>\n",
       "      <td>$22.00</td>\n",
       "      <td>$22</td>\n",
       "      <td>2011</td>\n",
       "      <td>Fiction</td>\n",
       "    </tr>\n",
       "    <tr>\n",
       "      <th>2</th>\n",
       "      <td>12 Rules for Life: An Antidote to Chaos</td>\n",
       "      <td>Jordan B. Peterson</td>\n",
       "      <td>4.7</td>\n",
       "      <td>18,979</td>\n",
       "      <td>$15.00</td>\n",
       "      <td>$15</td>\n",
       "      <td>2018</td>\n",
       "      <td>Non Fiction</td>\n",
       "    </tr>\n",
       "    <tr>\n",
       "      <th>3</th>\n",
       "      <td>1984</td>\n",
       "      <td>George Orwell</td>\n",
       "      <td>4.7</td>\n",
       "      <td>70,425</td>\n",
       "      <td>$7.48</td>\n",
       "      <td>$8</td>\n",
       "      <td>2021</td>\n",
       "      <td>Fiction</td>\n",
       "    </tr>\n",
       "    <tr>\n",
       "      <th>4</th>\n",
       "      <td>1984 (Signet Classics)</td>\n",
       "      <td>George Orwell</td>\n",
       "      <td>4.7</td>\n",
       "      <td>21,424</td>\n",
       "      <td>$6.00</td>\n",
       "      <td>$6</td>\n",
       "      <td>2017</td>\n",
       "      <td>Fiction</td>\n",
       "    </tr>\n",
       "  </tbody>\n",
       "</table>\n",
       "</div>"
      ],
      "text/plain": [
       "                                      Name              Author  User Rating  \\\n",
       "0            10-Day Green Smoothie Cleanse            JJ Smith          4.7   \n",
       "1                        11/22/63: A Novel        Stephen King          4.6   \n",
       "2  12 Rules for Life: An Antidote to Chaos  Jordan B. Peterson          4.7   \n",
       "3                                     1984       George Orwell          4.7   \n",
       "4                   1984 (Signet Classics)       George Orwell          4.7   \n",
       "\n",
       "  Reviews   Price Price_r  Year        Genre  \n",
       "0  17,350   $8.00      $8  2016  Non Fiction  \n",
       "1   2,052  $22.00     $22  2011      Fiction  \n",
       "2  18,979  $15.00     $15  2018  Non Fiction  \n",
       "3  70,425   $7.48      $8  2021      Fiction  \n",
       "4  21,424   $6.00      $6  2017      Fiction  "
      ]
     },
     "execution_count": 1,
     "metadata": {},
     "output_type": "execute_result"
    }
   ],
   "source": [
    "import pandas as pd\n",
    "import numpy as np\n",
    "import matplotlib.pyplot as plt\n",
    "\n",
    "df = pd.read_csv(\"../input/top-50-bestselling-novels-20092021-of-amazon/Amazon Top 50 Books 2009-2021 - Reworked Sheet (1).csv\")\n",
    "df.head()"
   ]
  },
  {
   "cell_type": "code",
   "execution_count": 2,
   "id": "1b02aea8",
   "metadata": {
    "execution": {
     "iopub.execute_input": "2022-09-02T21:14:59.453117Z",
     "iopub.status.busy": "2022-09-02T21:14:59.452741Z",
     "iopub.status.idle": "2022-09-02T21:14:59.475989Z",
     "shell.execute_reply": "2022-09-02T21:14:59.474876Z"
    },
    "papermill": {
     "duration": 0.029915,
     "end_time": "2022-09-02T21:14:59.478478",
     "exception": false,
     "start_time": "2022-09-02T21:14:59.448563",
     "status": "completed"
    },
    "tags": []
   },
   "outputs": [
    {
     "data": {
      "text/plain": [
       "0    4.7\n",
       "1    4.6\n",
       "2    4.7\n",
       "3    4.7\n",
       "4    4.7\n",
       "Name: User_Rating, dtype: float64"
      ]
     },
     "execution_count": 2,
     "metadata": {},
     "output_type": "execute_result"
    }
   ],
   "source": [
    "# Data Cleaning\n",
    "df.columns = df.columns.str.replace(\" \",\"_\")\n",
    "df.Genre = df.Genre.replace('\\s+', '_', regex=True)\n",
    "df.Reviews = df.Reviews.replace(',', '', regex=True)\n",
    "df['Price'] = df['Price'].str.strip('$')\n",
    "df['Price_r'] = df['Price_r'].str.strip('$')\n",
    "df['Reviews'] = df['Reviews'].astype('int')\n",
    "df['Price'] = df['Price'].astype('float')\n",
    "df['Price_r'] = df['Price_r'].astype('int')\n",
    "\n",
    "df.User_Rating.head()"
   ]
  },
  {
   "cell_type": "code",
   "execution_count": 3,
   "id": "26b3693d",
   "metadata": {
    "execution": {
     "iopub.execute_input": "2022-09-02T21:14:59.486227Z",
     "iopub.status.busy": "2022-09-02T21:14:59.485895Z",
     "iopub.status.idle": "2022-09-02T21:14:59.503835Z",
     "shell.execute_reply": "2022-09-02T21:14:59.503028Z"
    },
    "papermill": {
     "duration": 0.024128,
     "end_time": "2022-09-02T21:14:59.505817",
     "exception": false,
     "start_time": "2022-09-02T21:14:59.481689",
     "status": "completed"
    },
    "tags": []
   },
   "outputs": [
    {
     "data": {
      "text/plain": [
       "0    4.7\n",
       "1    4.6\n",
       "2    4.7\n",
       "3    4.7\n",
       "4    4.7\n",
       "Name: User_Rating, dtype: float64"
      ]
     },
     "execution_count": 3,
     "metadata": {},
     "output_type": "execute_result"
    }
   ],
   "source": [
    "pd.set_option(\"display.max_columns\",20)\n",
    "pd.set_option(\"display.max_rows\",20000)\n",
    "\n",
    "res = df.sort_values(\"Reviews\").value_counts(\"Reviews\").head(20)\n",
    "res1 = df[df[\"Reviews\"]==21834]\n",
    "df[df[\"Author\"]==\"American Psychological Association\"]\n",
    "df.sort_values(\"Reviews\", ascending=False).head()\n",
    "df.User_Rating.head()"
   ]
  },
  {
   "cell_type": "code",
   "execution_count": 4,
   "id": "3f0539b5",
   "metadata": {
    "execution": {
     "iopub.execute_input": "2022-09-02T21:14:59.514445Z",
     "iopub.status.busy": "2022-09-02T21:14:59.513530Z",
     "iopub.status.idle": "2022-09-02T21:14:59.856897Z",
     "shell.execute_reply": "2022-09-02T21:14:59.855723Z"
    },
    "papermill": {
     "duration": 0.349964,
     "end_time": "2022-09-02T21:14:59.859235",
     "exception": false,
     "start_time": "2022-09-02T21:14:59.509271",
     "status": "completed"
    },
    "tags": []
   },
   "outputs": [
    {
     "data": {
      "image/png": "[encoded data removed]",
      "text/plain": [
       "<Figure size 432x288 with 1 Axes>"
      ]
     },
     "metadata": {
      "needs_background": "light"
     },
     "output_type": "display_data"
    }
   ],
   "source": [
    "fig, ax= plt.subplots()\n",
    "df1 = pd.DataFrame()\n",
    "i=2009\n",
    "while i <=2021:\n",
    "    df1[str(i)] = df[df[\"Year\"]==i].Genre.value_counts()\n",
    "    i+=1\n",
    "df1 = df1.T.sort_values(\"Non_Fiction\",ascending=True)\n",
    "\n",
    "fiction = ax.scatter( df1.Fiction,df1.index,20, label=\"Fiction\")\n",
    "non_fiction = ax.scatter( df1.Non_Fiction,df1.index,20, label=\"Non_Fiction\")\n",
    "ax.set_ylabel('The years')\n",
    "ax.set_title('Number of Genre for both types of novels in all years')\n",
    "fig.tight_layout()\n",
    "ax.legend()\n",
    "plt.show()\n"
   ]
  },
  {
   "cell_type": "code",
   "execution_count": 5,
   "id": "643a2791",
   "metadata": {
    "execution": {
     "iopub.execute_input": "2022-09-02T21:14:59.868542Z",
     "iopub.status.busy": "2022-09-02T21:14:59.867701Z",
     "iopub.status.idle": "2022-09-02T21:14:59.884220Z",
     "shell.execute_reply": "2022-09-02T21:14:59.883153Z"
    },
    "papermill": {
     "duration": 0.02479,
     "end_time": "2022-09-02T21:14:59.887744",
     "exception": false,
     "start_time": "2022-09-02T21:14:59.862954",
     "status": "completed"
    },
    "tags": []
   },
   "outputs": [
    {
     "data": {
      "text/html": [
       "<div>\n",
       "<style scoped>\n",
       "    .dataframe tbody tr th:only-of-type {\n",
       "        vertical-align: middle;\n",
       "    }\n",
       "\n",
       "    .dataframe tbody tr th {\n",
       "        vertical-align: top;\n",
       "    }\n",
       "\n",
       "    .dataframe thead th {\n",
       "        text-align: right;\n",
       "    }\n",
       "</style>\n",
       "<table border=\"1\" class=\"dataframe\">\n",
       "  <thead>\n",
       "    <tr style=\"text-align: right;\">\n",
       "      <th></th>\n",
       "      <th>Name</th>\n",
       "      <th>Author</th>\n",
       "      <th>User_Rating</th>\n",
       "      <th>Reviews</th>\n",
       "      <th>Price</th>\n",
       "      <th>Price_r</th>\n",
       "      <th>Year</th>\n",
       "      <th>Genre</th>\n",
       "    </tr>\n",
       "  </thead>\n",
       "  <tbody>\n",
       "    <tr>\n",
       "      <th>513</th>\n",
       "      <td>The Midnight Library: A Novel</td>\n",
       "      <td>Matt Haig</td>\n",
       "      <td>4.3</td>\n",
       "      <td>193482</td>\n",
       "      <td>13.29</td>\n",
       "      <td>14</td>\n",
       "      <td>2021</td>\n",
       "      <td>Fiction</td>\n",
       "    </tr>\n",
       "    <tr>\n",
       "      <th>226</th>\n",
       "      <td>It Ends with Us: A Novel (1)</td>\n",
       "      <td>Colleen Hoover</td>\n",
       "      <td>4.7</td>\n",
       "      <td>141748</td>\n",
       "      <td>10.26</td>\n",
       "      <td>11</td>\n",
       "      <td>2021</td>\n",
       "      <td>Fiction</td>\n",
       "    </tr>\n",
       "    <tr>\n",
       "      <th>633</th>\n",
       "      <td>Where the Crawdads Sing</td>\n",
       "      <td>Delia Owens</td>\n",
       "      <td>4.8</td>\n",
       "      <td>120727</td>\n",
       "      <td>9.00</td>\n",
       "      <td>9</td>\n",
       "      <td>2020</td>\n",
       "      <td>Fiction</td>\n",
       "    </tr>\n",
       "    <tr>\n",
       "      <th>455</th>\n",
       "      <td>The Four Winds: A Novel</td>\n",
       "      <td>Kristin Hannah</td>\n",
       "      <td>4.5</td>\n",
       "      <td>117146</td>\n",
       "      <td>13.79</td>\n",
       "      <td>14</td>\n",
       "      <td>2021</td>\n",
       "      <td>Fiction</td>\n",
       "    </tr>\n",
       "    <tr>\n",
       "      <th>539</th>\n",
       "      <td>The Seven Husbands of Evelyn Hugo: A Novel</td>\n",
       "      <td>Taylor Jenkins Reid</td>\n",
       "      <td>4.6</td>\n",
       "      <td>111053</td>\n",
       "      <td>9.42</td>\n",
       "      <td>10</td>\n",
       "      <td>2021</td>\n",
       "      <td>Fiction</td>\n",
       "    </tr>\n",
       "  </tbody>\n",
       "</table>\n",
       "</div>"
      ],
      "text/plain": [
       "                                           Name               Author  \\\n",
       "513               The Midnight Library: A Novel            Matt Haig   \n",
       "226                It Ends with Us: A Novel (1)       Colleen Hoover   \n",
       "633                     Where the Crawdads Sing          Delia Owens   \n",
       "455                     The Four Winds: A Novel       Kristin Hannah   \n",
       "539  The Seven Husbands of Evelyn Hugo: A Novel  Taylor Jenkins Reid   \n",
       "\n",
       "     User_Rating  Reviews  Price  Price_r  Year    Genre  \n",
       "513          4.3   193482  13.29       14  2021  Fiction  \n",
       "226          4.7   141748  10.26       11  2021  Fiction  \n",
       "633          4.8   120727   9.00        9  2020  Fiction  \n",
       "455          4.5   117146  13.79       14  2021  Fiction  \n",
       "539          4.6   111053   9.42       10  2021  Fiction  "
      ]
     },
     "execution_count": 5,
     "metadata": {},
     "output_type": "execute_result"
    }
   ],
   "source": [
    "df[df[\"Reviews\"]>=20000].sort_values(\"Reviews\", ascending = False).head()\n"
   ]
  },
  {
   "cell_type": "code",
   "execution_count": 6,
   "id": "85fad8bd",
   "metadata": {
    "execution": {
     "iopub.execute_input": "2022-09-02T21:14:59.896976Z",
     "iopub.status.busy": "2022-09-02T21:14:59.896602Z",
     "iopub.status.idle": "2022-09-02T21:14:59.913068Z",
     "shell.execute_reply": "2022-09-02T21:14:59.912013Z"
    },
    "papermill": {
     "duration": 0.023623,
     "end_time": "2022-09-02T21:14:59.915316",
     "exception": false,
     "start_time": "2022-09-02T21:14:59.891693",
     "status": "completed"
    },
    "tags": []
   },
   "outputs": [
    {
     "data": {
      "text/html": [
       "<div>\n",
       "<style scoped>\n",
       "    .dataframe tbody tr th:only-of-type {\n",
       "        vertical-align: middle;\n",
       "    }\n",
       "\n",
       "    .dataframe tbody tr th {\n",
       "        vertical-align: top;\n",
       "    }\n",
       "\n",
       "    .dataframe thead th {\n",
       "        text-align: right;\n",
       "    }\n",
       "</style>\n",
       "<table border=\"1\" class=\"dataframe\">\n",
       "  <thead>\n",
       "    <tr style=\"text-align: right;\">\n",
       "      <th></th>\n",
       "      <th>Name</th>\n",
       "      <th>Author</th>\n",
       "      <th>User_Rating</th>\n",
       "      <th>Reviews</th>\n",
       "      <th>Price</th>\n",
       "      <th>Price_r</th>\n",
       "      <th>Year</th>\n",
       "      <th>Genre</th>\n",
       "    </tr>\n",
       "  </thead>\n",
       "  <tbody>\n",
       "    <tr>\n",
       "      <th>0</th>\n",
       "      <td>10-Day Green Smoothie Cleanse</td>\n",
       "      <td>JJ Smith</td>\n",
       "      <td>0.94</td>\n",
       "      <td>17350</td>\n",
       "      <td>8.00</td>\n",
       "      <td>8</td>\n",
       "      <td>2016</td>\n",
       "      <td>Non_Fiction</td>\n",
       "    </tr>\n",
       "    <tr>\n",
       "      <th>1</th>\n",
       "      <td>11/22/63: A Novel</td>\n",
       "      <td>Stephen King</td>\n",
       "      <td>0.92</td>\n",
       "      <td>2052</td>\n",
       "      <td>22.00</td>\n",
       "      <td>22</td>\n",
       "      <td>2011</td>\n",
       "      <td>Fiction</td>\n",
       "    </tr>\n",
       "    <tr>\n",
       "      <th>2</th>\n",
       "      <td>12 Rules for Life: An Antidote to Chaos</td>\n",
       "      <td>Jordan B. Peterson</td>\n",
       "      <td>0.94</td>\n",
       "      <td>18979</td>\n",
       "      <td>15.00</td>\n",
       "      <td>15</td>\n",
       "      <td>2018</td>\n",
       "      <td>Non_Fiction</td>\n",
       "    </tr>\n",
       "    <tr>\n",
       "      <th>3</th>\n",
       "      <td>1984</td>\n",
       "      <td>George Orwell</td>\n",
       "      <td>0.94</td>\n",
       "      <td>70425</td>\n",
       "      <td>7.48</td>\n",
       "      <td>8</td>\n",
       "      <td>2021</td>\n",
       "      <td>Fiction</td>\n",
       "    </tr>\n",
       "    <tr>\n",
       "      <th>4</th>\n",
       "      <td>1984 (Signet Classics)</td>\n",
       "      <td>George Orwell</td>\n",
       "      <td>0.94</td>\n",
       "      <td>21424</td>\n",
       "      <td>6.00</td>\n",
       "      <td>6</td>\n",
       "      <td>2017</td>\n",
       "      <td>Fiction</td>\n",
       "    </tr>\n",
       "  </tbody>\n",
       "</table>\n",
       "</div>"
      ],
      "text/plain": [
       "                                      Name              Author  User_Rating  \\\n",
       "0            10-Day Green Smoothie Cleanse            JJ Smith         0.94   \n",
       "1                        11/22/63: A Novel        Stephen King         0.92   \n",
       "2  12 Rules for Life: An Antidote to Chaos  Jordan B. Peterson         0.94   \n",
       "3                                     1984       George Orwell         0.94   \n",
       "4                   1984 (Signet Classics)       George Orwell         0.94   \n",
       "\n",
       "   Reviews  Price  Price_r  Year        Genre  \n",
       "0    17350   8.00        8  2016  Non_Fiction  \n",
       "1     2052  22.00       22  2011      Fiction  \n",
       "2    18979  15.00       15  2018  Non_Fiction  \n",
       "3    70425   7.48        8  2021      Fiction  \n",
       "4    21424   6.00        6  2017      Fiction  "
      ]
     },
     "execution_count": 6,
     "metadata": {},
     "output_type": "execute_result"
    }
   ],
   "source": [
    "soy = []\n",
    "soy1 = []\n",
    "for i in df.User_Rating:\n",
    "    soy.append(i)\n",
    "for i in soy:\n",
    "    soy1.append(i/5)\n",
    "soy1\n",
    "df[\"User_Rating\"]=soy1\n",
    "df.head()"
   ]
  },
  {
   "cell_type": "code",
   "execution_count": null,
   "id": "b8a7b529",
   "metadata": {
    "papermill": {
     "duration": 0.003755,
     "end_time": "2022-09-02T21:14:59.923337",
     "exception": false,
     "start_time": "2022-09-02T21:14:59.919582",
     "status": "completed"
    },
    "tags": []
   },
   "outputs": [],
   "source": []
  },
  {
   "cell_type": "code",
   "execution_count": null,
   "id": "855156e5",
   "metadata": {
    "papermill": {
     "duration": 0.003733,
     "end_time": "2022-09-02T21:14:59.931034",
     "exception": false,
     "start_time": "2022-09-02T21:14:59.927301",
     "status": "completed"
    },
    "tags": []
   },
   "outputs": [],
   "source": []
  }
 ],
 "metadata": {
  "kernelspec": {
   "display_name": "Python 3",
   "language": "python",
   "name": "python3"
  },
  "language_info": {
   "codemirror_mode": {
    "name": "ipython",
    "version": 3
   },
   "file_extension": ".py",
   "mimetype": "text/x-python",
   "name": "python",
   "nbconvert_exporter": "python",
   "pygments_lexer": "ipython3",
   "version": "3.7.12"
  },
  "papermill": {
   "default_parameters": {},
   "duration": 10.424446,
   "end_time": "2022-09-02T21:15:00.555876",
   "environment_variables": {},
   "exception": null,
   "input_path": "__notebook__.ipynb",
   "output_path": "__notebook__.ipynb",
   "parameters": {},
   "start_time": "2022-09-02T21:14:50.131430",
   "version": "2.3.4"
  }
 },
 "nbformat": 4,
 "nbformat_minor": 5
}
