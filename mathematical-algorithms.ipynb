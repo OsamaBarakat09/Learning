{
 "cells": [
  {
   "cell_type": "code",
   "execution_count": 1,
   "id": "b769d41b",
   "metadata": {
    "_cell_guid": "b1076dfc-b9ad-4769-8c92-a6c4dae69d19",
    "_uuid": "8f2839f25d086af736a60e9eeb907d3b93b6e0e5",
    "execution": {
     "iopub.execute_input": "2023-09-03T03:06:26.079799Z",
     "iopub.status.busy": "2023-09-03T03:06:26.078735Z",
     "iopub.status.idle": "2023-09-03T03:06:27.242633Z",
     "shell.execute_reply": "2023-09-03T03:06:27.241280Z"
    },
    "papermill": {
     "duration": 1.175855,
     "end_time": "2023-09-03T03:06:27.245643",
     "exception": false,
     "start_time": "2023-09-03T03:06:26.069788",
     "status": "completed"
    },
    "tags": []
   },
   "outputs": [],
   "source": [
    "import numpy as np\n",
    "import math\n",
    "import statistics\n",
    "from scipy.stats import iqr\n",
    "from scipy.stats import norm\n",
    "from scipy import stats\n",
    "import scipy\n"
   ]
  },
  {
   "cell_type": "code",
   "execution_count": 2,
   "id": "29c519e9",
   "metadata": {
    "execution": {
     "iopub.execute_input": "2023-09-03T03:06:27.257281Z",
     "iopub.status.busy": "2023-09-03T03:06:27.256846Z",
     "iopub.status.idle": "2023-09-03T03:06:27.268169Z",
     "shell.execute_reply": "2023-09-03T03:06:27.267084Z"
    },
    "papermill": {
     "duration": 0.019675,
     "end_time": "2023-09-03T03:06:27.270422",
     "exception": false,
     "start_time": "2023-09-03T03:06:27.250747",
     "status": "completed"
    },
    "tags": []
   },
   "outputs": [],
   "source": [
    "def Bio_Pro(n, x, p , q): # Binomial Probability\n",
    "    C = math.factorial(n)/(math.factorial(x) * math.factorial(n-x))\n",
    "    P = pow(p,x)\n",
    "    Q = pow(q,n-x)\n",
    "    res = C * P * Q\n",
    "    Mean = round(n * p,3)\n",
    "    STD = round(math.sqrt(n * p * q),3)\n",
    "    return round(res, 4) ,Mean, STD\n",
    "\n",
    "def Hyper_Pro(N, r, n,x):# Hypergeometric probability \n",
    "    C1 = math.factorial(r)/(math.factorial(x) * math.factorial(r-x))\n",
    "    C2 = math.factorial(N-r)/(math.factorial(n-x) * math.factorial((N-r)-(n-x)))\n",
    "    C3 = math.factorial(N)/(math.factorial(n) * math.factorial(N-n))\n",
    "    res = C1 * C2 / C3\n",
    "    return round(res,4)\n",
    "\n",
    "def Pisson_Pro(x, Mean, e= 2.71828): \n",
    "    # Mean == Variance and STD = root of variance\n",
    "    P = pow(Mean,x) * pow(e, -Mean) / math.factorial(x)     # P(x) \n",
    "    return round(P,4)\n"
   ]
  },
  {
   "cell_type": "code",
   "execution_count": 3,
   "id": "4c85f95c",
   "metadata": {
    "execution": {
     "iopub.execute_input": "2023-09-03T03:06:27.282082Z",
     "iopub.status.busy": "2023-09-03T03:06:27.281068Z",
     "iopub.status.idle": "2023-09-03T03:06:27.290651Z",
     "shell.execute_reply": "2023-09-03T03:06:27.289467Z"
    },
    "papermill": {
     "duration": 0.018254,
     "end_time": "2023-09-03T03:06:27.293407",
     "exception": false,
     "start_time": "2023-09-03T03:06:27.275153",
     "status": "completed"
    },
    "tags": []
   },
   "outputs": [],
   "source": [
    "class spread():\n",
    "    def __init__(self, res):\n",
    "        self.res = res\n",
    "    \n",
    "    def Quantiles(self):\n",
    "        return np.quantile(self.res, np.linspace(0,1,5))\n",
    "        \n",
    "    def Box(self):\n",
    "        return plt.boxplot(self.res)\n",
    "        plt.show()\n",
    "    def IQR(self):\n",
    "        return iqr(self.res)\n",
    "    def Outliers(self):\n",
    "        Q = iqr(self.res)\n",
    "        lower_threshold = np.quantile(self.res, 0.25) - 1.5 * Q\n",
    "        upper_threshold = np.quantile(self.res, 0.75) + 1.5 * Q\n",
    "        return round(lower_threshold,2), round(upper_threshold,2)"
   ]
  },
  {
   "cell_type": "code",
   "execution_count": 4,
   "id": "b038ec6d",
   "metadata": {
    "execution": {
     "iopub.execute_input": "2023-09-03T03:06:27.306673Z",
     "iopub.status.busy": "2023-09-03T03:06:27.304943Z",
     "iopub.status.idle": "2023-09-03T03:06:27.316285Z",
     "shell.execute_reply": "2023-09-03T03:06:27.315141Z"
    },
    "papermill": {
     "duration": 0.020758,
     "end_time": "2023-09-03T03:06:27.319277",
     "exception": false,
     "start_time": "2023-09-03T03:06:27.298519",
     "status": "completed"
    },
    "tags": []
   },
   "outputs": [],
   "source": [
    "class Cov():\n",
    "    def __init__ (self, a, b):\n",
    "        self.a = a\n",
    "        self.b = b\n",
    "        \n",
    "    def cov(self):\n",
    "        if len(self.a) != len(self.b):\n",
    "            return \n",
    "        a_mean = np.mean(self.a)\n",
    "        b_mean = np.mean(self.b)\n",
    "        sum = 0\n",
    "        for i in range(0, len(self.a)):\n",
    "            sum += ((self.a[i] - a_mean) * (self.b[i] - b_mean))\n",
    "        res = sum / (len(self.a) - 1)\n",
    "        return res \n",
    "    \n",
    "    # To Be sure from covariance we use correlation coefficient\n",
    "    def corr(self):\n",
    "        res = self.cov()// (np.std(self.a) * np.std(self.b))\n",
    "        return res\n",
    "    def res(self):\n",
    "        if self.corr() == 1:\n",
    "            return f'{self.corr()}: In The Same Direction'\n",
    "        elif self.corr() == 0:\n",
    "            return f'{self.corr()}: Troubles'\n",
    "        else:\n",
    "            return f'{self.corr()} : In The Opposite Direction'\n"
   ]
  },
  {
   "cell_type": "code",
   "execution_count": 5,
   "id": "c71c1b2c",
   "metadata": {
    "execution": {
     "iopub.execute_input": "2023-09-03T03:06:27.331524Z",
     "iopub.status.busy": "2023-09-03T03:06:27.330886Z",
     "iopub.status.idle": "2023-09-03T03:06:27.337092Z",
     "shell.execute_reply": "2023-09-03T03:06:27.335787Z"
    },
    "papermill": {
     "duration": 0.015019,
     "end_time": "2023-09-03T03:06:27.339627",
     "exception": false,
     "start_time": "2023-09-03T03:06:27.324608",
     "status": "completed"
    },
    "tags": []
   },
   "outputs": [],
   "source": [
    "def p_value(x):\n",
    "    z = norm.sf(abs(x))\n",
    "def z_value(x):\n",
    "    z = stats.zscore(x)\n",
    "def norm(x):\n",
    "    x = norm.cdf(z_value(x))\n",
    "    return x"
   ]
  },
  {
   "cell_type": "code",
   "execution_count": null,
   "id": "0e17e5c6",
   "metadata": {
    "papermill": {
     "duration": 0.004227,
     "end_time": "2023-09-03T03:06:27.348736",
     "exception": false,
     "start_time": "2023-09-03T03:06:27.344509",
     "status": "completed"
    },
    "tags": []
   },
   "outputs": [],
   "source": []
  }
 ],
 "kernelspec": {
  "display_name": "Python 3",
  "language": "python",
  "name": "python3"
 },
 "language_info": {
  "codemirror_mode": {
   "name": "ipython",
   "version": 3
  },
  "file_extension": ".py",
  "mimetype": "text/x-python",
  "name": "python",
  "nbconvert_exporter": "python",
  "pygments_lexer": "ipython3",
  "version": "3.6.4"
 },
 "metadata": {
  "kernelspec": {
   "display_name": "Python 3",
   "language": "python",
   "name": "python3"
  },
  "language_info": {
   "codemirror_mode": {
    "name": "ipython",
    "version": 3
   },
   "file_extension": ".py",
   "mimetype": "text/x-python",
   "name": "python",
   "nbconvert_exporter": "python",
   "pygments_lexer": "ipython3",
   "version": "3.10.12"
  },
  "papermill": {
   "default_parameters": {},
   "duration": 5.515811,
   "end_time": "2023-09-03T03:06:27.775493",
   "environment_variables": {},
   "exception": null,
   "input_path": "__notebook__.ipynb",
   "output_path": "__notebook__.ipynb",
   "parameters": {},
   "start_time": "2023-09-03T03:06:22.259682",
   "version": "2.4.0"
  }
 },
 "nbformat": 4,
 "nbformat_minor": 5
}
