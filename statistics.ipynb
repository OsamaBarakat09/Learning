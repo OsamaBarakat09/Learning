{
 "cells": [
  {
   "cell_type": "code",
   "execution_count": 1,
   "id": "912b0d46",
   "metadata": {
    "_cell_guid": "b1076dfc-b9ad-4769-8c92-a6c4dae69d19",
    "_uuid": "8f2839f25d086af736a60e9eeb907d3b93b6e0e5",
    "execution": {
     "iopub.execute_input": "2023-11-01T17:33:41.540185Z",
     "iopub.status.busy": "2023-11-01T17:33:41.539499Z",
     "iopub.status.idle": "2023-11-01T17:33:43.509888Z",
     "shell.execute_reply": "2023-11-01T17:33:43.508172Z"
    },
    "papermill": {
     "duration": 1.978511,
     "end_time": "2023-11-01T17:33:43.512453",
     "exception": false,
     "start_time": "2023-11-01T17:33:41.533942",
     "status": "completed"
    },
    "tags": []
   },
   "outputs": [
    {
     "name": "stderr",
     "output_type": "stream",
     "text": [
      "/opt/conda/lib/python3.10/site-packages/scipy/__init__.py:146: UserWarning: A NumPy version >=1.16.5 and <1.23.0 is required for this version of SciPy (detected version 1.23.5\n",
      "  warnings.warn(f\"A NumPy version >={np_minversion} and <{np_maxversion}\"\n"
     ]
    }
   ],
   "source": [
    "import pandas as pd\n",
    "import numpy as np\n",
    "import matplotlib.pyplot as plt\n",
    "\n",
    "from datetime import datetime, timedelta\n",
    "\n",
    "# Math\n",
    "import math\n",
    "import statistics\n",
    "\n",
    "from scipy import stats\n",
    "from scipy.stats import uniform, binom, norm, iqr, poisson, expon\n",
    "\n",
    "import sympy as sp\n"
   ]
  },
  {
   "cell_type": "code",
   "execution_count": 2,
   "id": "456227da",
   "metadata": {
    "execution": {
     "iopub.execute_input": "2023-11-01T17:33:43.521594Z",
     "iopub.status.busy": "2023-11-01T17:33:43.520940Z",
     "iopub.status.idle": "2023-11-01T17:33:43.535016Z",
     "shell.execute_reply": "2023-11-01T17:33:43.533199Z"
    },
    "papermill": {
     "duration": 0.021747,
     "end_time": "2023-11-01T17:33:43.537917",
     "exception": false,
     "start_time": "2023-11-01T17:33:43.516170",
     "status": "completed"
    },
    "tags": []
   },
   "outputs": [],
   "source": [
    "def Bio_Pro(n, p, x): # Binomial Probability\n",
    "    C = math.factorial(n)/(math.factorial(x) * math.factorial(n-x))\n",
    "    P = pow(p,x)\n",
    "    q = 1 - p\n",
    "    Q = pow(q,n-x)\n",
    "    res = C * P * Q\n",
    "    Mean = round(n * p,3)\n",
    "    STD = round(math.sqrt(n * p * q),3)\n",
    "    return round(res, 4)\n",
    "\n",
    "def Hyper_Pro(N, r, n,x):# Hypergeometric probability \n",
    "    C1 = math.factorial(r)/(math.factorial(x) * math.factorial(r-x))\n",
    "    C2 = math.factorial(N-r)/(math.factorial(n-x) * math.factorial((N-r)-(n-x)))\n",
    "    C3 = math.factorial(N)/(math.factorial(n) * math.factorial(N-n))\n",
    "    res = C1 * C2 / C3\n",
    "    return round(res,4)\n",
    "\n",
    "def Pisson_Pro(x, Mean): \n",
    "    from scipy.stats import poisson\n",
    "    res = poisson.pmf(x, Mean) # If number i want is exact x\n",
    "    res2 = poisson.cdf(x, Mean)  # if number i want is less than or equal to x\n",
    "    res3 = 1 - poisson.cdf(x, Mean)  # if number i want is more than or equal to x\n",
    "    return round(res,4)\n",
    "\n",
    "def Exp_Pisson_Pro(x, scale): \n",
    "    from scipy.stats import expon\n",
    "    res = expon.cdf(x, scale = scale) # scale = 1/λ = (1/0.5) =2\n",
    "    res1 = 1 - expon.cdf(x, scale = scale) \n",
    "    return round(res,4)\n"
   ]
  },
  {
   "cell_type": "code",
   "execution_count": 3,
   "id": "2d63c415",
   "metadata": {
    "execution": {
     "iopub.execute_input": "2023-11-01T17:33:43.547041Z",
     "iopub.status.busy": "2023-11-01T17:33:43.546671Z",
     "iopub.status.idle": "2023-11-01T17:33:43.553084Z",
     "shell.execute_reply": "2023-11-01T17:33:43.551925Z"
    },
    "papermill": {
     "duration": 0.014178,
     "end_time": "2023-11-01T17:33:43.555677",
     "exception": false,
     "start_time": "2023-11-01T17:33:43.541499",
     "status": "completed"
    },
    "tags": []
   },
   "outputs": [],
   "source": [
    "class Prob():\n",
    "    def __init__(self, Data, x):\n",
    "        self.data = Data\n",
    "        self.x = x\n",
    "        \n",
    "    def prob_Dis(self):\n",
    "        A = self.data[self.x].value_counts() / pair.shape[0] \n",
    "        A = A.reset_index()\n",
    "        A.columns = [self.x, 'Prob']\n",
    "        \n",
    "        exp = np.sum(A[self.x] * A.Prob)\n",
    "        rat = A[A[self.x] >=4]  #==> This condition is change according my need\n",
    "        prob = np.sum(rat['Prob'])\n",
    "        return prob\n",
    "    "
   ]
  },
  {
   "cell_type": "code",
   "execution_count": 4,
   "id": "2ab994a2",
   "metadata": {
    "execution": {
     "iopub.execute_input": "2023-11-01T17:33:43.565007Z",
     "iopub.status.busy": "2023-11-01T17:33:43.564620Z",
     "iopub.status.idle": "2023-11-01T17:33:43.571853Z",
     "shell.execute_reply": "2023-11-01T17:33:43.570726Z"
    },
    "papermill": {
     "duration": 0.01444,
     "end_time": "2023-11-01T17:33:43.573658",
     "exception": false,
     "start_time": "2023-11-01T17:33:43.559218",
     "status": "completed"
    },
    "tags": []
   },
   "outputs": [],
   "source": [
    "class spread():\n",
    "    def __init__(self, res):\n",
    "        self.res = res\n",
    "    \n",
    "    def Quantiles(self):\n",
    "        return np.quantile(self.res, np.linspace(0,1,5))\n",
    "        \n",
    "    def Box(self):\n",
    "        return plt.boxplot(self.res)\n",
    "        plt.show()\n",
    "    def IQR(self):\n",
    "        return iqr(self.res)\n",
    "    def Outliers(self):\n",
    "        Q = iqr(self.res)\n",
    "        lower_threshold = np.quantile(self.res, 0.25) - 1.5 * Q\n",
    "        upper_threshold = np.quantile(self.res, 0.75) + 1.5 * Q\n",
    "        return round(lower_threshold,2), round(upper_threshold,2)\n",
    "    "
   ]
  },
  {
   "cell_type": "code",
   "execution_count": 5,
   "id": "09049c31",
   "metadata": {
    "execution": {
     "iopub.execute_input": "2023-11-01T17:33:43.582503Z",
     "iopub.status.busy": "2023-11-01T17:33:43.581673Z",
     "iopub.status.idle": "2023-11-01T17:33:43.590177Z",
     "shell.execute_reply": "2023-11-01T17:33:43.588939Z"
    },
    "papermill": {
     "duration": 0.015703,
     "end_time": "2023-11-01T17:33:43.592837",
     "exception": false,
     "start_time": "2023-11-01T17:33:43.577134",
     "status": "completed"
    },
    "tags": []
   },
   "outputs": [],
   "source": [
    "class Cov():\n",
    "    def __init__ (self, a, b):\n",
    "        self.a = a\n",
    "        self.b = b\n",
    "        \n",
    "    def cov(self):\n",
    "        if len(self.a) != len(self.b):\n",
    "            return \n",
    "        a_mean = np.mean(self.a)\n",
    "        b_mean = np.mean(self.b)\n",
    "        sum = 0\n",
    "        for i in range(0, len(self.a)):\n",
    "            sum += ((self.a[i] - a_mean) * (self.b[i] - b_mean))\n",
    "        res = sum / (len(self.a) - 1)\n",
    "        return res \n",
    "    \n",
    "    # To Be sure from covariance we use correlation coefficient\n",
    "    def corr(self):\n",
    "        res = self.cov()// (np.std(self.a) * np.std(self.b))\n",
    "        return res\n",
    "    def res(self):\n",
    "        if self.corr() == 1:\n",
    "            return f'{self.corr()}: In The Same Direction'\n",
    "        elif self.corr() == 0:\n",
    "            return f'{self.corr()}: Troubles'\n",
    "        else:\n",
    "            return f'{self.corr()} : In The Opposite Direction'"
   ]
  },
  {
   "cell_type": "code",
   "execution_count": 6,
   "id": "32077814",
   "metadata": {
    "execution": {
     "iopub.execute_input": "2023-11-01T17:33:43.602286Z",
     "iopub.status.busy": "2023-11-01T17:33:43.601749Z",
     "iopub.status.idle": "2023-11-01T17:33:43.610117Z",
     "shell.execute_reply": "2023-11-01T17:33:43.608721Z"
    },
    "papermill": {
     "duration": 0.015768,
     "end_time": "2023-11-01T17:33:43.612720",
     "exception": false,
     "start_time": "2023-11-01T17:33:43.596952",
     "status": "completed"
    },
    "tags": []
   },
   "outputs": [],
   "source": [
    "def cumulatibe_distribution(x, value): # Calculate the percent of values that less than given value\n",
    "    Mean = np.mean(x)\n",
    "    STD = np.std(x)\n",
    "    res = round(norm.cdf(value, Mean, STD), 3)\n",
    "    return res\n",
    "\n",
    "def Probability_density(x, value): # find the value that less than given percent\n",
    "    Mean = np.mean(x)\n",
    "    STD = np.std(x)\n",
    "    res = round(norm.ppf(value, Mean, STD), 3)\n",
    "    return res\n",
    "\n",
    "\n",
    "def z_value(x): # find area under the standard normal curve\n",
    "    # if we need z for the left we use traditional way \n",
    "    # if we need z for the right we find traditional way then subtract it form 1\n",
    "    # Any value less -3.49 it's area under the curve will be 0\n",
    "    # Any value above 3.49 it's area under the curve will be 1\n",
    "    res = round(norm.cdf(x),4)\n",
    "    return res\n",
    "\n",
    "def Standardizing_Norm(x, Mean, STD):\n",
    "    z = (x-Mean) / STD\n",
    "    res = round(norm.cdf(z), 4)\n",
    "    if x == Mean:\n",
    "        return round(norm.cdf(0), 4) # Because The z_value for the mean of a normal distribution is always zero.\n",
    "    else:\n",
    "        return res\n",
    "\n",
    "def find_proportion_sample(N,X,n,x):\n",
    "    # N: number of all population\n",
    "    # X: number of all succed in all population\n",
    "    # n: number of sample\n",
    "    # x: number of succed in sample\n",
    "    # P: proportion of all experiment:\n",
    "    # P_Hat: Proportion of sample\n",
    "    P = round(X/N,2)\n",
    "    P_Hat = round(x/n,2)\n",
    "    return P, P_Hat\n"
   ]
  },
  {
   "cell_type": "code",
   "execution_count": 7,
   "id": "7c9552ca",
   "metadata": {
    "execution": {
     "iopub.execute_input": "2023-11-01T17:33:43.621188Z",
     "iopub.status.busy": "2023-11-01T17:33:43.620814Z",
     "iopub.status.idle": "2023-11-01T17:33:43.629055Z",
     "shell.execute_reply": "2023-11-01T17:33:43.627751Z"
    },
    "papermill": {
     "duration": 0.01485,
     "end_time": "2023-11-01T17:33:43.631017",
     "exception": false,
     "start_time": "2023-11-01T17:33:43.616167",
     "status": "completed"
    },
    "tags": []
   },
   "outputs": [],
   "source": [
    "def Factorial(x):\n",
    "    if x == 1:\n",
    "        return x\n",
    "    else:\n",
    "        return x * Factorial(x-1)\n",
    "\n",
    "def Combination(Total, Sample): # The number of combinations for selecting x from n distinct elements is given by the formula.\n",
    "    # We use factorial algorithm Here.\n",
    "    A = Factorial(Total)\n",
    "    B = Factorial(Sample)\n",
    "    C = Factorial(Total - Sample)\n",
    "    res = A // (B * (C))\n",
    "    return res\n",
    "\n",
    "def STD_For_sample_proportion(P, n):\n",
    "    # P: Number of succes\n",
    "    # n: number of sample proportion\n",
    "    res = pow((P* (1-P))/n, 1/2)\n",
    "    return round(res,3)\n",
    "\n",
    "def z_value_Sample_Proportion(P, n, P_Hat):\n",
    "    # P_Hat: sample proportion\n",
    "    # We use STD_For_sample_proportion Algorithm here\n",
    "    if (n*P < 5) | (n * (1-P) <5) :\n",
    "        return \n",
    "    else: # we can here use centeral limit therom\n",
    "        A = STD_For_sample_proportion(P, n)\n",
    "        res = (P_Hat - P) / A\n",
    "        return round(norm.cdf(res),2)"
   ]
  },
  {
   "cell_type": "code",
   "execution_count": 8,
   "id": "4bce4244",
   "metadata": {
    "execution": {
     "iopub.execute_input": "2023-11-01T17:33:43.639954Z",
     "iopub.status.busy": "2023-11-01T17:33:43.639367Z",
     "iopub.status.idle": "2023-11-01T17:33:43.645321Z",
     "shell.execute_reply": "2023-11-01T17:33:43.644141Z"
    },
    "papermill": {
     "duration": 0.013238,
     "end_time": "2023-11-01T17:33:43.647809",
     "exception": false,
     "start_time": "2023-11-01T17:33:43.634571",
     "status": "completed"
    },
    "tags": []
   },
   "outputs": [],
   "source": [
    "def ALter_z_value(x): # find z value if the normal uder the curve is known\n",
    "    res = norm.ppf(x)\n",
    "    return round(res,2)\n",
    "\n",
    "def x_From_Zvalue(z, Mean, STD): # When the normal uder the curve is known\n",
    "    res = Mean + (norm.ppf(z)* STD) # if the z value in the right we will subtract it from 1\n",
    "    return round(res,2)"
   ]
  },
  {
   "cell_type": "code",
   "execution_count": 9,
   "id": "00597b36",
   "metadata": {
    "execution": {
     "iopub.execute_input": "2023-11-01T17:33:43.656916Z",
     "iopub.status.busy": "2023-11-01T17:33:43.656316Z",
     "iopub.status.idle": "2023-11-01T17:33:43.662004Z",
     "shell.execute_reply": "2023-11-01T17:33:43.660524Z"
    },
    "papermill": {
     "duration": 0.013195,
     "end_time": "2023-11-01T17:33:43.664655",
     "exception": false,
     "start_time": "2023-11-01T17:33:43.651460",
     "status": "completed"
    },
    "tags": []
   },
   "outputs": [],
   "source": [
    "def sampling_error(x, Mean): # practically we can't know the sampling error for all population \n",
    "    # x: mean for sample data\n",
    "    # Mean: mean for all population data\n",
    "    res = np.mean(x) - np.mean(Mean)\n",
    "    return round(res,3)\n",
    "\n",
    "def Sample_size(STD, x): #find mean and STD for sample size\n",
    "    # The mean for sample size is qual to the mean of all population\n",
    "    # So we will find the Standard deviation\n",
    "    # STD: The Standard deviation of all population\n",
    "    # x: number of sample values\n",
    "    res = STD / pow(x,1/2)\n",
    "    return round(res,3)\n"
   ]
  },
  {
   "cell_type": "code",
   "execution_count": 10,
   "id": "06601e70",
   "metadata": {
    "execution": {
     "iopub.execute_input": "2023-11-01T17:33:43.674213Z",
     "iopub.status.busy": "2023-11-01T17:33:43.673617Z",
     "iopub.status.idle": "2023-11-01T17:33:43.756991Z",
     "shell.execute_reply": "2023-11-01T17:33:43.755391Z"
    },
    "papermill": {
     "duration": 0.091219,
     "end_time": "2023-11-01T17:33:43.760049",
     "exception": false,
     "start_time": "2023-11-01T17:33:43.668830",
     "status": "completed"
    },
    "tags": []
   },
   "outputs": [
    {
     "data": {
      "text/latex": [
       "$\\displaystyle 3 y^{2} - \\sin{\\left(y \\right)} + 4$"
      ],
      "text/plain": [
       "3*y**2 - sin(y) + 4"
      ]
     },
     "execution_count": 10,
     "metadata": {},
     "output_type": "execute_result"
    }
   ],
   "source": [
    "import sympy as sp\n",
    "y=sp.Symbol('y')\n",
    "f=sp.cos(y)+4*y+y**3\n",
    "y**3 + 4*y + sp.cos(y)\n",
    "df=sp.diff(f,y)\n",
    "3*y**2 - sp.sin(y) + 4\n"
   ]
  },
  {
   "cell_type": "code",
   "execution_count": null,
   "id": "72a73a1a",
   "metadata": {
    "papermill": {
     "duration": 0.003464,
     "end_time": "2023-11-01T17:33:43.767237",
     "exception": false,
     "start_time": "2023-11-01T17:33:43.763773",
     "status": "completed"
    },
    "tags": []
   },
   "outputs": [],
   "source": []
  },
  {
   "cell_type": "code",
   "execution_count": null,
   "id": "df95c5d1",
   "metadata": {
    "papermill": {
     "duration": 0.003051,
     "end_time": "2023-11-01T17:33:43.773735",
     "exception": false,
     "start_time": "2023-11-01T17:33:43.770684",
     "status": "completed"
    },
    "tags": []
   },
   "outputs": [],
   "source": []
  }
 ],
 "metadata": {
  "kernelspec": {
   "display_name": "Python 3",
   "language": "python",
   "name": "python3"
  },
  "language_info": {
   "codemirror_mode": {
    "name": "ipython",
    "version": 3
   },
   "file_extension": ".py",
   "mimetype": "text/x-python",
   "name": "python",
   "nbconvert_exporter": "python",
   "pygments_lexer": "ipython3",
   "version": "3.10.12"
  },
  "papermill": {
   "default_parameters": {},
   "duration": 13.573259,
   "end_time": "2023-11-01T17:33:44.900951",
   "environment_variables": {},
   "exception": null,
   "input_path": "__notebook__.ipynb",
   "output_path": "__notebook__.ipynb",
   "parameters": {},
   "start_time": "2023-11-01T17:33:31.327692",
   "version": "2.4.0"
  }
 },
 "nbformat": 4,
 "nbformat_minor": 5
}
