{
 "cells": [
  {
   "cell_type": "code",
   "execution_count": 1,
   "id": "83d0497f",
   "metadata": {
    "_cell_guid": "b1076dfc-b9ad-4769-8c92-a6c4dae69d19",
    "_uuid": "8f2839f25d086af736a60e9eeb907d3b93b6e0e5",
    "execution": {
     "iopub.execute_input": "2023-08-11T05:44:26.802056Z",
     "iopub.status.busy": "2023-08-11T05:44:26.801614Z",
     "iopub.status.idle": "2023-08-11T05:44:27.946304Z",
     "shell.execute_reply": "2023-08-11T05:44:27.945363Z"
    },
    "papermill": {
     "duration": 1.152377,
     "end_time": "2023-08-11T05:44:27.949757",
     "exception": false,
     "start_time": "2023-08-11T05:44:26.797380",
     "status": "completed"
    },
    "tags": []
   },
   "outputs": [
    {
     "name": "stderr",
     "output_type": "stream",
     "text": [
      "/opt/conda/lib/python3.10/site-packages/scipy/__init__.py:146: UserWarning: A NumPy version >=1.16.5 and <1.23.0 is required for this version of SciPy (detected version 1.23.5\n",
      "  warnings.warn(f\"A NumPy version >={np_minversion} and <{np_maxversion}\"\n"
     ]
    }
   ],
   "source": [
    "import pandas as pd\n",
    "import numpy as np\n",
    "import matplotlib.pyplot as plt\n",
    "\n",
    "from datetime import datetime, timedelta\n",
    "\n",
    "import math\n",
    "import os\n",
    "import statistics\n",
    "from scipy.stats import iqr\n",
    "\n",
    "import scipy\n"
   ]
  },
  {
   "cell_type": "code",
   "execution_count": 2,
   "id": "5a3cc0f8",
   "metadata": {
    "execution": {
     "iopub.execute_input": "2023-08-11T05:44:27.958041Z",
     "iopub.status.busy": "2023-08-11T05:44:27.957155Z",
     "iopub.status.idle": "2023-08-11T05:44:27.968278Z",
     "shell.execute_reply": "2023-08-11T05:44:27.967044Z"
    },
    "papermill": {
     "duration": 0.018633,
     "end_time": "2023-08-11T05:44:27.971674",
     "exception": false,
     "start_time": "2023-08-11T05:44:27.953041",
     "status": "completed"
    },
    "tags": []
   },
   "outputs": [],
   "source": [
    "def Bio_Pro(n, x, p , q): # Binomial Probability\n",
    "    C = math.factorial(n)/(math.factorial(x) * math.factorial(n-x))\n",
    "    P = pow(p,x)\n",
    "    Q = pow(q,n-x)\n",
    "    res = C * P * Q\n",
    "    Mean = round(n * p,3)\n",
    "    STD = round(math.pow(n * p * q, 1/2),3)\n",
    "    return round(res, 4) ,Mean, STD\n",
    "\n",
    "def Hyper_Pro(N, r, n,x):# Hypergeometric probability \n",
    "    C1 = math.factorial(r)/(math.factorial(x) * math.factorial(r-x))\n",
    "    C2 = math.factorial(N-r)/(math.factorial(n-x) * math.factorial((N-r)-(n-x)))\n",
    "    C3 = math.factorial(N)/(math.factorial(n) * math.factorial(N-n))\n",
    "    res = C1 * C2 / C3\n",
    "    return round(res,4)\n",
    "\n",
    "def Pisson_Pro(x, Mean, e= 2.71828): \n",
    "    # Mean == Variance and STD = root of variance\n",
    "    P = pow(Mean,x) * pow(e, -Mean) / math.factorial(x)     # P(x) \n",
    "    return round(P,4)"
   ]
  }
 ],
 "metadata": {
  "kernelspec": {
   "display_name": "Python 3",
   "language": "python",
   "name": "python3"
  },
  "language_info": {
   "codemirror_mode": {
    "name": "ipython",
    "version": 3
   },
   "file_extension": ".py",
   "mimetype": "text/x-python",
   "name": "python",
   "nbconvert_exporter": "python",
   "pygments_lexer": "ipython3",
   "version": "3.10.12"
  },
  "papermill": {
   "default_parameters": {},
   "duration": 14.489966,
   "end_time": "2023-08-11T05:44:28.898616",
   "environment_variables": {},
   "exception": null,
   "input_path": "__notebook__.ipynb",
   "output_path": "__notebook__.ipynb",
   "parameters": {},
   "start_time": "2023-08-11T05:44:14.408650",
   "version": "2.4.0"
  }
 },
 "nbformat": 4,
 "nbformat_minor": 5
}
