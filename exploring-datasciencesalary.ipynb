{
 "cells": [
  {
   "cell_type": "code",
   "execution_count": 1,
   "id": "de26b2f4",
   "metadata": {
    "_cell_guid": "b1076dfc-b9ad-4769-8c92-a6c4dae69d19",
    "_uuid": "8f2839f25d086af736a60e9eeb907d3b93b6e0e5",
    "execution": {
     "iopub.execute_input": "2022-08-10T16:36:15.899609Z",
     "iopub.status.busy": "2022-08-10T16:36:15.898918Z",
     "iopub.status.idle": "2022-08-10T16:36:15.952513Z",
     "shell.execute_reply": "2022-08-10T16:36:15.951334Z"
    },
    "papermill": {
     "duration": 0.059909,
     "end_time": "2022-08-10T16:36:15.955087",
     "exception": false,
     "start_time": "2022-08-10T16:36:15.895178",
     "status": "completed"
    },
    "tags": []
   },
   "outputs": [
    {
     "data": {
      "text/plain": [
       "Machine Learning Engineer                   41\n",
       "Research Scientist                          16\n",
       "Machine Learning Scientist                   8\n",
       "AI Scientist                                 7\n",
       "ML Engineer                                  6\n",
       "Computer Vision Engineer                     6\n",
       "Applied Machine Learning Scientist           4\n",
       "Analytics Engineer                           4\n",
       "Machine Learning Infrastructure Engineer     3\n",
       "Computer Vision Software Engineer            3\n",
       "Machine Learning Developer                   3\n",
       "ETL Developer                                2\n",
       "Head of Machine Learning                     1\n",
       "NLP Engineer                                 1\n",
       "3D Computer Vision Researcher                1\n",
       "Machine Learning Manager                     1\n",
       "Lead Machine Learning Engineer               1\n",
       "Name: job_title, dtype: int64"
      ]
     },
     "execution_count": 1,
     "metadata": {},
     "output_type": "execute_result"
    }
   ],
   "source": [
    "import pandas as pd\n",
    "import matplotlib.pyplot as plt\n",
    "\n",
    "df = pd.read_csv('../input/salary/ds_salaries.csv')\n",
    "class Data_Cleaning():\n",
    "    def Space_Between_TheWords():\n",
    "        df.job_title = df.job_title.str.replace(' ','_')\n",
    "    def Sep_JobThatContain_Data_AndVersa():\n",
    "        # Contain Data jobs\n",
    "        Con = df[df['job_title'].str.contains('Data')].job_title.value_counts()\n",
    "        # Didn't contain data jobs\n",
    "        Not_Con = df[~df['job_title'].str.contains('Data')].job_title.value_counts()\n",
    "        return Not_Con\n",
    "Data_Cleaning.Sep_JobThatContain_Data_AndVersa()"
   ]
  },
  {
   "cell_type": "code",
   "execution_count": null,
   "id": "9234af07",
   "metadata": {
    "papermill": {
     "duration": 0.001245,
     "end_time": "2022-08-10T16:36:15.958200",
     "exception": false,
     "start_time": "2022-08-10T16:36:15.956955",
     "status": "completed"
    },
    "tags": []
   },
   "outputs": [],
   "source": []
  }
 ],
 "metadata": {
  "kernelspec": {
   "display_name": "Python 3",
   "language": "python",
   "name": "python3"
  },
  "language_info": {
   "codemirror_mode": {
    "name": "ipython",
    "version": 3
   },
   "file_extension": ".py",
   "mimetype": "text/x-python",
   "name": "python",
   "nbconvert_exporter": "python",
   "pygments_lexer": "ipython3",
   "version": "3.7.12"
  },
  "papermill": {
   "default_parameters": {},
   "duration": 10.993827,
   "end_time": "2022-08-10T16:36:16.681336",
   "environment_variables": {},
   "exception": null,
   "input_path": "__notebook__.ipynb",
   "output_path": "__notebook__.ipynb",
   "parameters": {},
   "start_time": "2022-08-10T16:36:05.687509",
   "version": "2.3.4"
  }
 },
 "nbformat": 4,
 "nbformat_minor": 5
}
