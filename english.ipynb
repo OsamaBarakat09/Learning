{
 "cells": [
  {
   "cell_type": "markdown",
   "id": "60db3ce0",
   "metadata": {
    "_cell_guid": "b1076dfc-b9ad-4769-8c92-a6c4dae69d19",
    "_uuid": "8f2839f25d086af736a60e9eeb907d3b93b6e0e5",
    "papermill": {
     "duration": 0.002628,
     "end_time": "2022-08-18T15:54:43.633049",
     "exception": false,
     "start_time": "2022-08-18T15:54:43.630421",
     "status": "completed"
    },
    "tags": []
   },
   "source": [
    "- be more persice please.\n",
    "- he wondering about data analysis.\n",
    "- CSV is an acronym for comma separated value.\n",
    "- it's a well-versed person in data analytics.\n",
    "- Now i become wiz in data cleaning.\n",
    "- what is your extension in data analysis.\n",
    "- sunder pichai is a director of Google.\n",
    "- it's metamorphosis animal.\n",
    "- if you have a lot of good high skills find job for you will become super-intuitive thing.\n",
    "- last task is find ith row in the list.\n",
    "- understanding statistics concepts has relevant to understanding data analysis.\n",
    "- i'm trying to solve this gap between us.\n",
    "- he is still studying all the day straightforwardly.\n",
    "- csv fils is more appropriate structure file another files that using in python.\n",
    "- thankfully, the percentage accepted in college is consistent with the overall percentage of my grades.\n",
    "- glad you like it.\n",
    "- the director of company doesn't know the problems that occurring in his company.\n",
    "- Study seriously to wrap up this problem.\n",
    "- What are the eligibility criteria for becoming a DSC lead?.\n",
    "- reviews and reviewers \n",
    "- company collecting data about the revenue of product line for the last month.\n",
    "- celever manner.\n",
    "- All this three words carrying the same meaningness.\n",
    "** - miscellaneous\n",
    "** - various \n",
    "** - different\n",
    "- when using the spreedsheet file you can retrieve the list of sheet name using **VariableNameThatPullData.sheet_name**.\n",
    "- age-adjusted mortality rate in the first world war.\n",
    "- Identify one topic in data analysis and customize it,Or certain branch like finance, marketing or business analytics.\n",
    "- \n",
    "\n",
    "\n",
    "\n",
    "\n",
    "\n",
    "\n",
    "\n",
    "\n",
    "\n",
    "\n",
    "\n",
    "\n",
    "\n"
   ]
  },
  {
   "cell_type": "markdown",
   "id": "c17d2c9b",
   "metadata": {
    "papermill": {
     "duration": 0.00132,
     "end_time": "2022-08-18T15:54:43.636133",
     "exception": false,
     "start_time": "2022-08-18T15:54:43.634813",
     "status": "completed"
    },
    "tags": []
   },
   "source": []
  }
 ],
 "metadata": {
  "kernelspec": {
   "display_name": "Python 3",
   "language": "python",
   "name": "python3"
  },
  "language_info": {
   "codemirror_mode": {
    "name": "ipython",
    "version": 3
   },
   "file_extension": ".py",
   "mimetype": "text/x-python",
   "name": "python",
   "nbconvert_exporter": "python",
   "pygments_lexer": "ipython3",
   "version": "3.7.12"
  },
  "papermill": {
   "default_parameters": {},
   "duration": 9.829215,
   "end_time": "2022-08-18T15:54:44.262983",
   "environment_variables": {},
   "exception": null,
   "input_path": "__notebook__.ipynb",
   "output_path": "__notebook__.ipynb",
   "parameters": {},
   "start_time": "2022-08-18T15:54:34.433768",
   "version": "2.3.4"
  }
 },
 "nbformat": 4,
 "nbformat_minor": 5
}
