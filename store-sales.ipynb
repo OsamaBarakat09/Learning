{
 "cells": [
  {
   "cell_type": "code",
   "execution_count": 1,
   "id": "29dcaf34",
   "metadata": {
    "_cell_guid": "b1076dfc-b9ad-4769-8c92-a6c4dae69d19",
    "_uuid": "8f2839f25d086af736a60e9eeb907d3b93b6e0e5",
    "execution": {
     "iopub.execute_input": "2022-07-05T21:34:31.908099Z",
     "iopub.status.busy": "2022-07-05T21:34:31.907202Z",
     "iopub.status.idle": "2022-07-05T21:34:31.954805Z",
     "shell.execute_reply": "2022-07-05T21:34:31.953438Z"
    },
    "papermill": {
     "duration": 0.054176,
     "end_time": "2022-07-05T21:34:31.957577",
     "exception": false,
     "start_time": "2022-07-05T21:34:31.903401",
     "status": "completed"
    },
    "tags": []
   },
   "outputs": [
    {
     "name": "stdout",
     "output_type": "stream",
     "text": [
      "              date     type    locale locale_name description transferred\n",
      "count          350      350       350         350         350         350\n",
      "unique         312        6         3          24         103           2\n",
      "top     2014-06-25  Holiday  National     Ecuador    Carnaval       False\n",
      "freq             4      221       174         174          10         338\n"
     ]
    }
   ],
   "source": [
    "import pandas as pd\n",
    "holiday = pd.read_csv(\"../input/store-sales-time-series-forecasting/holidays_events.csv\")\n",
    "holiday.isna().any()\n",
    "soy = holiday.loc[:\"2012\"]\n",
    "#info = soy.info()\n",
    "soy.shape\n",
    "des = holiday.describe()\n",
    "print(des)\n"
   ]
  },
  {
   "cell_type": "code",
   "execution_count": null,
   "id": "55a42623",
   "metadata": {
    "papermill": {
     "duration": 0.001294,
     "end_time": "2022-07-05T21:34:31.961221",
     "exception": false,
     "start_time": "2022-07-05T21:34:31.959927",
     "status": "completed"
    },
    "tags": []
   },
   "outputs": [],
   "source": []
  }
 ],
 "metadata": {
  "kernelspec": {
   "display_name": "Python 3",
   "language": "python",
   "name": "python3"
  },
  "language_info": {
   "codemirror_mode": {
    "name": "ipython",
    "version": 3
   },
   "file_extension": ".py",
   "mimetype": "text/x-python",
   "name": "python",
   "nbconvert_exporter": "python",
   "pygments_lexer": "ipython3",
   "version": "3.7.12"
  },
  "papermill": {
   "default_parameters": {},
   "duration": 9.214447,
   "end_time": "2022-07-05T21:34:32.584247",
   "environment_variables": {},
   "exception": null,
   "input_path": "__notebook__.ipynb",
   "output_path": "__notebook__.ipynb",
   "parameters": {},
   "start_time": "2022-07-05T21:34:23.369800",
   "version": "2.3.4"
  }
 },
 "nbformat": 4,
 "nbformat_minor": 5
}
