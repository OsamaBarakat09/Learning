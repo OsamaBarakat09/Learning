{
 "cells": [
  {
   "cell_type": "code",
   "execution_count": 1,
   "id": "c6d14bd9",
   "metadata": {
    "_cell_guid": "b1076dfc-b9ad-4769-8c92-a6c4dae69d19",
    "_uuid": "8f2839f25d086af736a60e9eeb907d3b93b6e0e5",
    "execution": {
     "iopub.execute_input": "2022-08-09T04:42:50.467642Z",
     "iopub.status.busy": "2022-08-09T04:42:50.466943Z",
     "iopub.status.idle": "2022-08-09T04:42:52.801225Z",
     "shell.execute_reply": "2022-08-09T04:42:52.799950Z"
    },
    "papermill": {
     "duration": 2.344675,
     "end_time": "2022-08-09T04:42:52.805134",
     "exception": false,
     "start_time": "2022-08-09T04:42:50.460459",
     "status": "completed"
    },
    "tags": []
   },
   "outputs": [
    {
     "name": "stdout",
     "output_type": "stream",
     "text": [
      "Quantitative Values\n",
      " count    150.000000\n",
      "mean     211.593333\n",
      "std       49.718955\n",
      "min      156.000000\n",
      "25%      174.750000\n",
      "50%      200.500000\n",
      "75%      221.500000\n",
      "max      339.000000\n",
      "Name: Open, dtype: float64\n",
      "\n",
      "Categorical Values\n",
      " count     150.000000\n",
      "unique    150.000000\n",
      "top       155.850006\n",
      "freq        1.000000\n",
      "Name: Close, dtype: float64\n"
     ]
    }
   ],
   "source": [
    "import pandas_datareader.data as web\n",
    "import matplotlib.pyplot as plt\n",
    "import pandas as pd\n",
    "import datetime as dt\n",
    "\n",
    "today = dt.date.today()\n",
    "\n",
    "start_date = '2022-01-01'\n",
    "end_date = '2022-12-31'\n",
    "Data = web.DataReader(name=\"META\", data_source='yahoo', start=start_date, end=end_date)\n",
    "Data_Kaggle = web.DataReader(name=\"META\", data_source='yahoo', start=start_date, end=end_date)\n",
    "\n",
    "\n",
    "class Common_Data_Problems():\n",
    "    def ConvertFloatNumberToInt():\n",
    "        Data['Open'] = Data['Open'].str.strip('.')\n",
    "        Data['Open'] = Data['Open'].astype('int')\n",
    "        return Data.dtype()\n",
    "    def Drop_values_using_filter():\n",
    "        # Drop values using filter\n",
    "        df = Data[Data[\"Open\"] >= 280]\n",
    "        return df\n",
    "    def Drop_values_using_drop():\n",
    "        # Drop values using drop\n",
    "        df = Data.drop(Data[Data['Open']>=170].index, inplace=False )\n",
    "        return df\n",
    "    # def Drop_values_using_assert(): \n",
    "        # Remember, no output means it passed\n",
    "       # df = assert Data.Open.max() >=280\n",
    "       # return df\n",
    "    def Convert_DataType_ToAnotherDataType():\n",
    "        df = Data.set_index('Open')\n",
    "        df.loc[df.Volume > 12077100, 'Volume'] = 5\n",
    "        return df\n",
    "    def ConvertTo_Datetime():\n",
    "        Data.Volume = pd.to_datetime(Data.Volume).dt.date\n",
    "        return Data\n",
    "    def Today_data():\n",
    "        today = dt.date.today()\n",
    "        df = Data.reset_index()\n",
    "        df1 = df[df['Date'] ==  '2022-01-01']\n",
    "        return df1\n",
    "    def Convert_Float_To_Int():\n",
    "        Data.Open = Data.Open.astype('int')\n",
    "        return Data\n",
    "    def Differ_Bet_Quant_Categ_Values_Using_Describe():\n",
    "        Data.Open = Data.Open.astype('int')\n",
    "        Data.Close = Data.Close.astype('category')\n",
    "        print('Quantitative Values\\n',Data.Open.describe())\n",
    "        print('\\nCategorical Values\\n',Data.Close.describe())\n",
    "            \n",
    "Common_Data_Problems.Differ_Bet_Quant_Categ_Values_Using_Describe()"
   ]
  },
  {
   "cell_type": "code",
   "execution_count": null,
   "id": "38c64810",
   "metadata": {
    "papermill": {
     "duration": 0.002236,
     "end_time": "2022-08-09T04:42:52.810351",
     "exception": false,
     "start_time": "2022-08-09T04:42:52.808115",
     "status": "completed"
    },
    "tags": []
   },
   "outputs": [],
   "source": []
  },
  {
   "cell_type": "code",
   "execution_count": null,
   "id": "9c507b44",
   "metadata": {
    "papermill": {
     "duration": 0.002179,
     "end_time": "2022-08-09T04:42:52.815011",
     "exception": false,
     "start_time": "2022-08-09T04:42:52.812832",
     "status": "completed"
    },
    "tags": []
   },
   "outputs": [],
   "source": []
  },
  {
   "cell_type": "code",
   "execution_count": null,
   "id": "a047fc30",
   "metadata": {
    "papermill": {
     "duration": 0.002073,
     "end_time": "2022-08-09T04:42:52.819473",
     "exception": false,
     "start_time": "2022-08-09T04:42:52.817400",
     "status": "completed"
    },
    "tags": []
   },
   "outputs": [],
   "source": []
  },
  {
   "cell_type": "code",
   "execution_count": null,
   "id": "28833d0b",
   "metadata": {
    "papermill": {
     "duration": 0.002065,
     "end_time": "2022-08-09T04:42:52.823844",
     "exception": false,
     "start_time": "2022-08-09T04:42:52.821779",
     "status": "completed"
    },
    "tags": []
   },
   "outputs": [],
   "source": []
  },
  {
   "cell_type": "markdown",
   "id": "3448b112",
   "metadata": {
    "papermill": {
     "duration": 0.002071,
     "end_time": "2022-08-09T04:42:52.828273",
     "exception": false,
     "start_time": "2022-08-09T04:42:52.826202",
     "status": "completed"
    },
    "tags": []
   },
   "source": [
    "- https://www.kaggle.com/datasets/ruchi798/data-science-job-salaries"
   ]
  },
  {
   "cell_type": "code",
   "execution_count": null,
   "id": "7004f2ff",
   "metadata": {
    "papermill": {
     "duration": 0.002074,
     "end_time": "2022-08-09T04:42:52.832645",
     "exception": false,
     "start_time": "2022-08-09T04:42:52.830571",
     "status": "completed"
    },
    "tags": []
   },
   "outputs": [],
   "source": []
  }
 ],
 "metadata": {
  "kernelspec": {
   "display_name": "Python 3",
   "language": "python",
   "name": "python3"
  },
  "language_info": {
   "codemirror_mode": {
    "name": "ipython",
    "version": 3
   },
   "file_extension": ".py",
   "mimetype": "text/x-python",
   "name": "python",
   "nbconvert_exporter": "python",
   "pygments_lexer": "ipython3",
   "version": "3.7.12"
  },
  "papermill": {
   "default_parameters": {},
   "duration": 13.592264,
   "end_time": "2022-08-09T04:42:53.456254",
   "environment_variables": {},
   "exception": null,
   "input_path": "__notebook__.ipynb",
   "output_path": "__notebook__.ipynb",
   "parameters": {},
   "start_time": "2022-08-09T04:42:39.863990",
   "version": "2.3.4"
  }
 },
 "nbformat": 4,
 "nbformat_minor": 5
}
