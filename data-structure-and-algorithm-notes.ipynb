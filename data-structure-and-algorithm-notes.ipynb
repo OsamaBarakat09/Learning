{
 "cells": [
  {
   "cell_type": "markdown",
   "id": "9e0cb0d1",
   "metadata": {
    "_cell_guid": "b1076dfc-b9ad-4769-8c92-a6c4dae69d19",
    "_uuid": "8f2839f25d086af736a60e9eeb907d3b93b6e0e5",
    "papermill": {
     "duration": 0.003072,
     "end_time": "2022-09-14T05:50:20.473441",
     "exception": false,
     "start_time": "2022-09-14T05:50:20.470369",
     "status": "completed"
    },
    "tags": []
   },
   "source": [
    "- large memory capacities have created a spiral of complexity.\n",
    "- Computer science is concerned by problem solving.\n",
    "- a computer scientist’s goal is to develop an algorithm.\n",
    "- computer science is the study of abstractions,Abstraction allows us to view the problem and solution in such a way as to separate the so-called logical and physical perspectives.\n",
    "- any sequence or order to doing thing you see it is called algorithm or logical perspective of this sequence.\n",
    "- The function that you put some info in it and you use it in another place is called **interface**.\n",
    "- The steps taht we prepare it to solve problem is called **logical perspective** and the way that this steps is implementation by it is called **Physical perspective**.\n",
    "** if we say the sequence of number 5,9,6,8 and 3 this order of steps is called **Logical prespective**.\n",
    "** But if we say that the way of implementaion this sequence is by multiply this sequence this operation is called **Physical prespective**. \n",
    "** These two perspectives will allow us to define the complex data models for our problems without giving any indication as to the details of how the model will actually be built.\n",
    "- **procedural abstraction**: We do not necessarily know how the square root is being calculated, but we know what the function is called and how to use it.\n",
    "** math.sqrt(): Sqrt() is called here a **Black box**.\n",
    "- Computer science is not the study of programming. Programming, however, is an important part of what a computer scientist does. Programming is often the way that we create a representation for our solutions.\n",
    "- All data items in the computer are represented as strings of binary digits. In order to give these strings meaning, we need to have **data types**.Data types provide an interpretation for this binary data so that we can think about the data in terms that make sense with respect to the problem being solved. These low-level, built-in data types (sometimes called the primitive data types) provide the building blocks for algorithm development.\n",
    "- Why studying data structure and abstract data type?\n",
    "-- To manage the complexity of problems and the problem-solving process\n",
    "- computer scientists use abstractions to allow them to focus on the “big picture” without getting lost in the details. By creating models of the problem domain, we are able to utilize a better and more efficient problem-solving process. These models allow us to describe the data that our algorithms will manipulate in a much more consistent way with respect to the problem itself.\n",
    "- **ADT**: Abstract data type: is a logical description of how we view the data and the operations that are allowed without regard to how they will be implemented.\n",
    "- We are concerned only with what the data is representing and not with how it will eventually be constructed.By providing this level of abstraction, we are creating an **encapsulation** around the data. The idea is that by encapsulating the details of the implementation, we are hiding them from the user’s view. This is called **information hiding**.\n",
    "- The user interacts with the interface, using the operations that have been specified by the abstract data type. The abstract data type is the shell that the user interacts with. The implementation is hidden one level deeper. The user is not concerned with the details of the implementation.\n",
    "- Implementation of an abstract data type == Data structure.\n",
    "- **Primative data types**:\n",
    "** integer(int)\n",
    "** Floating(float)\n",
    "** String(str)\n",
    "** Boolean(bool)\n",
    "- Independent Implementation means an implementation of a Specification that does not, except for code validly licensed for such purpose, incorporate or otherwise make any use of the corresponding RI.\n",
    "** **OR** The way that allow to programmer to switch to the details of implementation without data that user interact with it.\n",
    "- One algorithm may use many fewer resources than another.\n",
    "- analysis techniques that allow us to compare and contrast solutions based solely on their own characteristics, not the characteristics of the program or computer used to implement them.\n",
    "- Classes are analogous to abstract data types because a user of a class only sees the state and behavior of a data item. Data items are called objects in the object-oriented paradigm. An object is an instance of a class.\n",
    "- Identifiers are used in programming languages as names.\n",
    "** Identifiers are case sensitive\n",
    "** Name = osama ==>> **Name= osama** ( is Assignment statment) .. **Name** (is an identefiers) .. **osama** (is an object of identifiers) .. **osama** (is associated by **Name** variable ( identifiers ) ).\n",
    "- A Python variable is created when a name is used for the first time on the left-hand side of an assignment statement. Assignment statements provide a way to associate a name with a value. The variable will hold a reference to a piece of data and not the data itself.\n",
    "-  The same variable can refer to many different types of data.\n",
    "** That is happen when you change the object of variable from type like (int) to another type like (float).\n",
    "- Lists, strings, and tuples are ordered collections **Versa** sets and dictionaries that are unordered collection.\n",
    "- Lists are heterogeneous, meaning that the data objects need not all be from the same class and the collection can be assigned to a variable.\n",
    "- A major difference between lists and strings is that lists can be modified while strings cannot.\n",
    "- The string that used to input some thing is calles **Prompt**.\n",
    "** name = input(\"What's your name?\") ==>> the string in double quote is calles **Prompt**.\n",
    "- %: It's format operatorز\n",
    "- Algorithms require two important control structures: iteration and selection.\n",
    "- For iteration, Python provides a standard while statement and a very powerful for statement. \n",
    "- if you change an object in-place, you might impact more than one reference to it at the same time.\n",
    "- "
   ]
  }
 ],
 "metadata": {
  "kernelspec": {
   "display_name": "Python 3",
   "language": "python",
   "name": "python3"
  },
  "language_info": {
   "codemirror_mode": {
    "name": "ipython",
    "version": 3
   },
   "file_extension": ".py",
   "mimetype": "text/x-python",
   "name": "python",
   "nbconvert_exporter": "python",
   "pygments_lexer": "ipython3",
   "version": "3.7.12"
  },
  "papermill": {
   "default_parameters": {},
   "duration": 10.798683,
   "end_time": "2022-09-14T05:50:21.203853",
   "environment_variables": {},
   "exception": null,
   "input_path": "__notebook__.ipynb",
   "output_path": "__notebook__.ipynb",
   "parameters": {},
   "start_time": "2022-09-14T05:50:10.405170",
   "version": "2.3.4"
  }
 },
 "nbformat": 4,
 "nbformat_minor": 5
}
