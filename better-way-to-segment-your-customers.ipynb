{
 "cells": [
  {
   "cell_type": "code",
   "execution_count": 1,
   "id": "e7e6bbf4",
   "metadata": {
    "_cell_guid": "b1076dfc-b9ad-4769-8c92-a6c4dae69d19",
    "_uuid": "8f2839f25d086af736a60e9eeb907d3b93b6e0e5",
    "execution": {
     "iopub.execute_input": "2022-07-07T05:42:37.141511Z",
     "iopub.status.busy": "2022-07-07T05:42:37.141103Z",
     "iopub.status.idle": "2022-07-07T05:42:37.189075Z",
     "shell.execute_reply": "2022-07-07T05:42:37.187987Z"
    },
    "papermill": {
     "duration": 0.054705,
     "end_time": "2022-07-07T05:42:37.191581",
     "exception": false,
     "start_time": "2022-07-07T05:42:37.136876",
     "status": "completed"
    },
    "tags": []
   },
   "outputs": [
    {
     "data": {
      "text/plain": [
       "1 19 20     1\n",
       "23 3        1\n",
       "3 16        1\n",
       "2 6 10      1\n",
       "1 4CP       1\n",
       "1 13 T4     1\n",
       "2 6 14      2\n",
       "1 21 T4     2\n",
       "1 12 T4     2\n",
       "5 18        3\n",
       "4 15        3\n",
       "1 14 T4     4\n",
       "1 21 T3     4\n",
       "2 6 8       4\n",
       "2 6 19      5\n",
       "2 6 12      5\n",
       "2 7 8       5\n",
       "2 6 9       5\n",
       "17          6\n",
       "1 8 T4      6\n",
       "2 7 12      6\n",
       "2 6 13      6\n",
       "1 12 T3     6\n",
       "2 7 13      6\n",
       "22 18       7\n",
       "1 9 T4      7\n",
       "2 7 10      7\n",
       "2 7 14      7\n",
       "2 7 9       8\n",
       "1 10 T3     8\n",
       "2 11        9\n",
       "1 19 T4     9\n",
       "1 13 T3    11\n",
       "1 9 T3     11\n",
       "1 19 T3    13\n",
       "1 8 T3     14\n",
       "2 7 19     14\n",
       "1 10       15\n",
       "1 14 T3    15\n",
       "1 8        21\n",
       "1 11       23\n",
       "1 12       23\n",
       "1 19       31\n",
       "1 14       32\n",
       "1 9        32\n",
       "1 13       34\n",
       "Name: Region, dtype: int64"
      ]
     },
     "execution_count": 1,
     "metadata": {},
     "output_type": "execute_result"
    }
   ],
   "source": [
    "import pandas as pd\n",
    "df = pd.read_csv(\"../input/filter-customers/datacamp_workspace_export_2022-07-06 18_53_39.csv\")\n",
    "\n",
    "# info about Regions\n",
    "x = df[\"Region\"]\n",
    "len_x = len(x)\n",
    "list_x = []\n",
    "for i in x:\n",
    "    list_x.append(i)\n",
    "list_special = list(set(list_x))\n",
    "\n",
    "# info about doctors\n",
    "x_2 = df[\"DoctorID\"]\n",
    "list_x2 =[]\n",
    "for i in x_2:\n",
    "    list_x2.append(i)\n",
    "list_x2_special = len(list_x2)\n",
    "\n",
    "# number of doctors in each region\n",
    "unique = df.drop_duplicates(subset=[\"DoctorID\",\"Region\"])\n",
    "(unique[\"Region\"].value_counts(sort=True,ascending=True))\n",
    "\n"
   ]
  },
  {
   "cell_type": "markdown",
   "id": "03f33022",
   "metadata": {
    "papermill": {
     "duration": 0.001567,
     "end_time": "2022-07-07T05:42:37.195163",
     "exception": false,
     "start_time": "2022-07-07T05:42:37.193596",
     "status": "completed"
    },
    "tags": []
   },
   "source": [
    "number of regions is : 46\n",
    "number of doctors is : 437\n",
    "1 19 20     1\n",
    "23 3        1\n",
    "3 16        1\n",
    "2 6 10      1\n",
    "1 4CP       1\n",
    "1 13 T4     1\n",
    "2 6 14      2\n",
    "1 21 T4     2\n",
    "1 12 T4     2\n",
    "5 18        3\n",
    "4 15        3\n",
    "1 14 T4     4\n",
    "1 21 T3     4\n",
    "2 6 8       4\n",
    "2 6 19      5\n",
    "2 6 12      5\n",
    "2 7 8       5\n",
    "2 6 9       5\n",
    "17          6\n",
    "1 8 T4      6\n",
    "2 7 12      6\n",
    "2 6 13      6\n",
    "1 12 T3     6\n",
    "2 7 13      6\n",
    "22 18       7\n",
    "1 9 T4      7\n",
    "2 7 10      7\n",
    "2 7 14      7\n",
    "2 7 9       8\n",
    "1 10 T3     8\n",
    "2 11        9\n",
    "1 19 T4     9\n",
    "1 13 T3    11\n",
    "1 9 T3     11\n",
    "1 19 T3    13\n",
    "1 8 T3     14\n",
    "2 7 19     14\n",
    "1 10       15\n",
    "1 14 T3    15\n",
    "1 8        21\n",
    "1 11       23\n",
    "1 12       23\n",
    "1 19       31\n",
    "1 14       32\n",
    "1 9        32\n",
    "1 13       34"
   ]
  }
 ],
 "metadata": {
  "kernelspec": {
   "display_name": "Python 3",
   "language": "python",
   "name": "python3"
  },
  "language_info": {
   "codemirror_mode": {
    "name": "ipython",
    "version": 3
   },
   "file_extension": ".py",
   "mimetype": "text/x-python",
   "name": "python",
   "nbconvert_exporter": "python",
   "pygments_lexer": "ipython3",
   "version": "3.7.12"
  },
  "papermill": {
   "default_parameters": {},
   "duration": 10.38631,
   "end_time": "2022-07-07T05:42:37.817520",
   "environment_variables": {},
   "exception": null,
   "input_path": "__notebook__.ipynb",
   "output_path": "__notebook__.ipynb",
   "parameters": {},
   "start_time": "2022-07-07T05:42:27.431210",
   "version": "2.3.4"
  }
 },
 "nbformat": 4,
 "nbformat_minor": 5
}
