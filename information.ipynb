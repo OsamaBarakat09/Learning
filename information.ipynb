{
 "cells": [
  {
   "cell_type": "markdown",
   "id": "348a73d5",
   "metadata": {
    "_cell_guid": "b1076dfc-b9ad-4769-8c92-a6c4dae69d19",
    "_uuid": "8f2839f25d086af736a60e9eeb907d3b93b6e0e5",
    "papermill": {
     "duration": 0.004934,
     "end_time": "2022-08-18T21:06:03.787528",
     "exception": false,
     "start_time": "2022-08-18T21:06:03.782594",
     "status": "completed"
    },
    "tags": []
   },
   "source": [
    "# Api\n",
    "- https://www.ibm.com/cloud/learn/api\n",
    "- https://www.springboard.com/blog/data-science/top-apis-for-data-scientists/\n",
    "- https://blog.hubspot.com/website/how-to-use-twitter-api\n",
    "- https://developer.twitter.com/en\n",
    "- we pull data from API in the form of Json file format.\n",
    "- An API is a set of protocols and routines for building and interacting with software applications.\n",
    "- API is an acronym and is short for Application Program interface.\n",
    "- It is common to pull data from APIs in the JSON file format.\n",
    "- An API is a bunch of code that allows two software programs to communicate with each other.\n",
    "\n"
   ]
  },
  {
   "cell_type": "markdown",
   "id": "84fbfcaf",
   "metadata": {
    "papermill": {
     "duration": 0.003495,
     "end_time": "2022-08-18T21:06:03.795127",
     "exception": false,
     "start_time": "2022-08-18T21:06:03.791632",
     "status": "completed"
    },
    "tags": []
   },
   "source": [
    "# Data Cleaning\n",
    "-- You can think of **inconsistent category data** as an action that can happen or not, if an action can happen then it is not considered an inconsistent category and vice versa.\n",
    "-- str.strip() suggests you are stripping characters from a string.\n",
    "-- **Cross field validation** is the use of multiple fields in your dataset to sanity check.\n",
    "* the integrity of your data\n",
    "-- Missing Completely at Random: No systematic relationship between a column's missing values and other or own values.\n",
    "-- Missing at Random: There is a systematic relationship between a column's missing values and other observed values.\n",
    "-- Missing not at Random: There is a systematic relationship between a column's missing values and unobserved values.\n",
    "\n"
   ]
  },
  {
   "cell_type": "markdown",
   "id": "33a35e5c",
   "metadata": {
    "papermill": {
     "duration": 0.003484,
     "end_time": "2022-08-18T21:06:03.802380",
     "exception": false,
     "start_time": "2022-08-18T21:06:03.798896",
     "status": "completed"
    },
    "tags": []
   },
   "source": [
    "# Generally information\n",
    "-- using for loop best of while loop because you can know number or repate time.\n",
    "-- don't put the first caracter name of class **o** because it consider it Zero.\n",
    "-- DBMS: it's an abreviation of Database Mangement System\n",
    "- **axis**\n",
    "-- if we have a block of datasets consists of columns and rows and we want to calculate the mean\n",
    "** - if axis equal 0 the interpreter will calculate the mean of the frist row block.\n",
    "** - if axis equal 1 the interpreter will calculate the mean of the frist column block\n",
    "- **Square brackets** used to subset list of lists.\n",
    "- starting a line with ! gives you complete system shell access. \n",
    "- **MNIST**: Modified National Institute of Standards and Technology database.\n",
    "** - it's important for imagine processing system.\n",
    "** - is also widely used for training and testing in the field of machine learning.\n"
   ]
  },
  {
   "cell_type": "markdown",
   "id": "fbedca30",
   "metadata": {
    "papermill": {
     "duration": 0.003503,
     "end_time": "2022-08-18T21:06:03.809562",
     "exception": false,
     "start_time": "2022-08-18T21:06:03.806059",
     "status": "completed"
    },
    "tags": []
   },
   "source": [
    "# Articals\n",
    "- https://ipython.readthedocs.io/en/stable/overview.html\n",
    "- https://docs.python.org/3.3/glossary.html#term-bdfl\n",
    "- https://peps.python.org/pep-0020/\n",
    "- https://peps.python.org/pep-0008/\n",
    "- **THE MNIST DATABASE**: http://yann.lecun.com/exdb/mnist/.\n",
    "- https://www.freecodecamp.org/news/python-list-files-in-a-directory-guide-listdir-vs-system-ls-explained-with-examples/#:~:text=Purpose%3A%20listdir%20returns%20the%20list,that%20you%20are%20working%20with."
   ]
  },
  {
   "cell_type": "markdown",
   "id": "d93fc599",
   "metadata": {
    "papermill": {
     "duration": 0.003419,
     "end_time": "2022-08-18T21:06:03.816666",
     "exception": false,
     "start_time": "2022-08-18T21:06:03.813247",
     "status": "completed"
    },
    "tags": []
   },
   "source": [
    "* Data analysis\n",
    "-- https://hevodata.com/learn/sql-for-data-analysis/"
   ]
  },
  {
   "cell_type": "markdown",
   "id": "c28747fd",
   "metadata": {
    "papermill": {
     "duration": 0.003444,
     "end_time": "2022-08-18T21:06:03.823791",
     "exception": false,
     "start_time": "2022-08-18T21:06:03.820347",
     "status": "completed"
    },
    "tags": []
   },
   "source": [
    "* Trading\n",
    "-- https://www.investopedia.com/learn-how-to-trade-the-market-in-5-steps-4692230\n"
   ]
  },
  {
   "cell_type": "markdown",
   "id": "3604a3e6",
   "metadata": {
    "papermill": {
     "duration": 0.003475,
     "end_time": "2022-08-18T21:06:03.831081",
     "exception": false,
     "start_time": "2022-08-18T21:06:03.827606",
     "status": "completed"
    },
    "tags": []
   },
   "source": [
    "* SQL\n",
    "-- https://www.datacamp.com/tutorial/tutorial-how-to-execute-sql-queries-in-r-and-python"
   ]
  },
  {
   "cell_type": "markdown",
   "id": "d7de0fc5",
   "metadata": {
    "papermill": {
     "duration": 0.003507,
     "end_time": "2022-08-18T21:06:03.838354",
     "exception": false,
     "start_time": "2022-08-18T21:06:03.834847",
     "status": "completed"
    },
    "tags": []
   },
   "source": [
    "* Data Structure (( Array ))\n",
    "* rotate array\n",
    "-- https://www.studytonight.com/python-programs/python-program-for-array-rotation\n",
    "-- https://www.geeksforgeeks.org/array-data-structure/?ref=ghm#introduction\n",
    "-- https://www.studytonight.com/python-programs/python-program-for-reversal-algorithm-for-array-rotation"
   ]
  },
  {
   "cell_type": "markdown",
   "id": "0e050470",
   "metadata": {
    "papermill": {
     "duration": 0.00362,
     "end_time": "2022-08-18T21:06:03.845748",
     "exception": false,
     "start_time": "2022-08-18T21:06:03.842128",
     "status": "completed"
    },
    "tags": []
   },
   "source": [
    "* Types of Data sets\n",
    "-- https://byjus.com/maths/data-sets/"
   ]
  },
  {
   "cell_type": "markdown",
   "id": "6d206561",
   "metadata": {
    "papermill": {
     "duration": 0.00349,
     "end_time": "2022-08-18T21:06:03.853027",
     "exception": false,
     "start_time": "2022-08-18T21:06:03.849537",
     "status": "completed"
    },
    "tags": []
   },
   "source": [
    "# flat files\n",
    "- **Flat files** are basic text files containing records, that is, table data, without structured relationships. \n",
    "- For large files, we may not want to print all of their content to the shell: you may wish to print only the first few lines. Enter the **readline()** method, which allows you to do this.\n",
    "- Flat files consist of rows or records each row or record is a unique passenger onboard and each column is a feature or attribute.\n",
    "- flat file can have a header.\n",
    "- **CSV** is an acronym for comma separated value.\n",
    "- Flat files consist of multiple tables with structured relationships between the tables.\n",
    "- A record in a flat file is composed of fields or attributes, each of which contains at most one item of information.\n",
    "- Flat files are pervasive in data science.\n",
    "- You can print the Zen of Python in your shell by typing **import this**.\n",
    "- numpy arrays are the Python standard for storing numerical data. They are efficient, fast and clean.\n",
    "- Comment and missing values both consider one of flat files issues.\n",
    "\n",
    "\n",
    "\n",
    "\n",
    "\n",
    "** - When a file called **file** is open, you can print out the first line by executing **file.readline()**. If you execute the same command again, the second line will print, and so on.\n",
    "- He showed that you can bind a variable file by using a **context manager construct**:\n",
    "** - with open('huck_finn.txt') as file:\n",
    "- **File extension**\n",
    "** - .csv - Comma separated values\n",
    "** - .txt - Text \n",
    "** - commas, tabs - Delimiters\n",
    "- starting a line with **!** gives you complete system shell access. \n",
    "\n",
    "- **There are a number of arguments that np.loadtxt() takes that you'll find useful**:\n",
    "- delimiter changes the delimiter that loadtxt() is expecting.\n",
    "** -You can use ',' for comma-delimited.\n",
    "** -You can use '\\t' for tab-delimited.\n",
    "- **skiprows** allows you to specify how many rows (not indices) you wish to skip\n",
    "- **usecols** takes a list of the indices of the columns you wish to keep.\n",
    "- if you using **np.loadtxt** to pull text file contain many types of data type it will freak from that so we will using another function called **np.genfromtxt** which can hundle such structures.\n",
    "** - if we want to know what each column should be in **np.genfromtxt** we can use dtype=None.\n",
    "** - **names**: tell us that is the header Because the data are of different types.\n",
    "- There is also another function **np.recfromcsv()** that behaves similarly to **np.genfromtxt()**, except that its defaults delimiter=',' and names=True in addition to dtype=None!.\n",
    "- \"Python has long been great for data munging and preparation, but less so for data analysis and modeling. pandas helps fill this gap, enabling you to carry out your entire data analysis workflow in Python without having to switch to a more domain specific language like R.\" The data structure most relevant to the data manipulation and analysis workflow that pandas offers is the dataframe and it is the Pythonic analogue of R’s dataframe.\n",
    "- When we using **pd.read_csv** in pandas if the file contain unnecessary information we put in the **comet='#'** in the two parentheses.\n",
    "\n",
    "# Importing data from other file types\n",
    "- **HDF5** files are becoming a more prevalent way to store large datasets, as demonstrated by the fact that the LIGO researchers use it to store their data.\n",
    "- **pickled files**: This is a file type native to Python.\n",
    "- **Jsons** is appropriate file for python dictionaries.\n",
    "- if you merely want to ba able to import **JSONS file** in python you can serialize it then doing that.\n",
    "** - **serialize**: Convert object to byte or bytestream.\n",
    "** - A **bytestream** is a sequence of bytes. Typically, each byte is an 8-bit quantity.\n",
    "- A **binary file**: meaning that it is computer-readable and not human-readable. \n",
    "- IPython magic command **! ls** to explore your current working directory. \n",
    "- List and dictionary can't be easily save it in flat file.\n",
    "- disaster chernobyl.\n",
    "- **SAS**: statitical analysis system.\n",
    "- **SAS**: business analytics and biostatistics\n",
    "- **Stata**: is contraction of Statiistics + data\n",
    "- **Stata**: academic social sciences search.\n",
    "- **SAS** files are important because SAS is a software suite that performs advanced analytics, multivariate analyses, business intelligence, data management, predictive analytics and is a standard for statisticians to do computational analysis.\n",
    "\n",
    "\n",
    "\n",
    "\n"
   ]
  },
  {
   "cell_type": "markdown",
   "id": "5d55b0f5",
   "metadata": {
    "papermill": {
     "duration": 0.003516,
     "end_time": "2022-08-18T21:06:03.860354",
     "exception": false,
     "start_time": "2022-08-18T21:06:03.856838",
     "status": "completed"
    },
    "tags": []
   },
   "source": [
    "# Manipulating pandas DataFrames\n",
    "- Exploratory data analysis\n",
    "- Data wrangling\n",
    "- Data preprocessing\n",
    "- Building models\n",
    "- Visualization\n",
    "- Standard and best practice to use panda"
   ]
  },
  {
   "cell_type": "markdown",
   "id": "dce9f648",
   "metadata": {
    "papermill": {
     "duration": 0.003462,
     "end_time": "2022-08-18T21:06:03.867643",
     "exception": false,
     "start_time": "2022-08-18T21:06:03.864181",
     "status": "completed"
    },
    "tags": []
   },
   "source": [
    "# Reshaping Data with pandas\n",
    "# Wide and long data formats\n",
    "-- you should format your data to making it appropriate for your analysis.\n",
    "* **note** : some of data sets are human readable but it's not suitable for statistical analysis.\n",
    "- **Example**: nested data and multi index level data frames both is one of **compleax structure** data frams\n",
    "- **Reshaping data**: it's transforming a data structure to adjust it for analysis **Or** transforming the data so columns become rows and visa vera.\n",
    "- **Reshape data** help you when you have compleax structures dataframs\n",
    "- **Format**\n",
    "-- **Wide format**: it's better format for simple statistics such as calculating the mean and imputing missing values.\n",
    "** - In the wide format, a subject’s repeated responses will be in a single row, and each response is in a separate column.\n",
    "-- **Long format**: it's a better format because it can be summarize data and structure of key value pair, and many advansed graphing and analysis data.\n",
    "** - The long format it's most suitable to store a clean datasets\n",
    "- **Transpose**: filp the dataset where columns became rows and visa vera.\n",
    "-- using transpose let you intersting by each feature in datasets.\n",
    "- So the difference between long format and wide format is like the difference between if you have a datasets about students in class and you want to now the feature of each charactristic of each student and the students themselves, the first type is long format and second type is wide format.\n",
    "- using **.T** to flip the data is equivalent using **transpose()** function to the same reason.\n",
    "\n",
    "\n",
    "- **Reshaping data**\n",
    "-- use transpose() function to filp datasets where it convert row to columns and vesa vera but it's not helpful.\n",
    "- **Wide to long trasformation**\n",
    "-- melt() and wide_to_long   functions.\n",
    "- **long to wide format**\n",
    "-- pivot() and pivot_table() methods.\n",
    "\n",
    "\n",
    "- long format ***And*** Wide format ==>> https://www.theanalysisfactor.com/wide-and-long-data/\n",
    "- Data types ***And*** Data formats ==>> https://www.ibm.com/docs/en/i/7.2?topic=definitions-data-types-data-formats\n",
    "- Nested data ==>> https://www.cambridge.org/core/books/abs/cambridge-handbook-of-research-methods-in-clinical-psychology/analyzing-nested-data/CF2278DC769DA418F8AE39C6FD8643F8\n",
    "- ndex data ==>> https://www.guru99.com/indexing-in-database.html#:~:text=Multilevel%20Indexing%20in%20Database%20is,sparse%20base%20on%20that%20file.\n",
    "\n"
   ]
  },
  {
   "cell_type": "markdown",
   "id": "3d27b73d",
   "metadata": {
    "papermill": {
     "duration": 0.003436,
     "end_time": "2022-08-18T21:06:03.874799",
     "exception": false,
     "start_time": "2022-08-18T21:06:03.871363",
     "status": "completed"
    },
    "tags": []
   },
   "source": [
    "# Reshaping using pivot method\n",
    "- **Important convert long format to wide**\n",
    "** - Demonstrate relationship between two columns\n",
    "** - Time series operations with the variables\n",
    "** - Operation that requires columns to be the unique variable\n",
    "- **Pivot table** takes three arguments index, columns and values\n",
    "- If the value in pivot table containe a list of values the resulting DataFrame have a hierarchical column index.\n",
    "- if we want extend pivot tabel we doing that by omiting value argument.\n",
    "- **pivot table** is a DataFrame that contains statistics that summarizes the data from a larger DataFrame.\n",
    "** - Convert data fram to a long format\n",
    "** - general purpose pivoting\n",
    "** - index/column pair must be unique\n",
    "** - can't aggregate values\n",
    "- If we want **for example the count** of all values in pivot table we can use the **margins** argument and put it equal True.\n",
    "- How do we know if we should apply pivot or pivot table? Ask yourself. Does the DataFrame have more than one value for each index/column pair? Do I need a multi-level index or a summary statistics of a large DataFrame? If the answer to any of these questions is yes, then you should use pivot table.\n",
    "- **melt**\n",
    "** - Unpivot a DataFrame from wide to long format, optionally leaving identifiers set.\n",
    "\n",
    "- **pivot**\n",
    "** - Create a spreadsheet-style pivot table as a DataFrame.\n",
    "\n",
    "- **DataFrame.pivot**\n",
    "** - Pivot without aggregation that can handle non-numeric data.\n",
    "\n",
    "- **DataFrame.pivot_table**\n",
    "** - Generalization of pivot that can handle duplicate values for one index/column pair.\n",
    "\n",
    "- **DataFrame.unstack**\n",
    "** - Pivot based on the index values instead of a column.\n",
    "\n",
    "\n",
    "\n"
   ]
  },
  {
   "cell_type": "markdown",
   "id": "a31143a1",
   "metadata": {
    "papermill": {
     "duration": 0.0035,
     "end_time": "2022-08-18T21:06:03.881999",
     "exception": false,
     "start_time": "2022-08-18T21:06:03.878499",
     "status": "completed"
    },
    "tags": []
   },
   "source": [
    "# Reshaping \n",
    "- When we have a dataset that have multipul columns with the same name we can't convert it wide to long with melt then we can use wide_to_long to doing this.\n",
    "- We use **sep** when we have a seperate between the prefix in the name columns.\n",
    "- **suffix argument** We pass expression: by backslash w plus. This expression indicates to pandas that the name of the column ends in a word. \n"
   ]
  },
  {
   "cell_type": "markdown",
   "id": "9f6ec7a1",
   "metadata": {
    "papermill": {
     "duration": 0.003441,
     "end_time": "2022-08-18T21:06:03.889170",
     "exception": false,
     "start_time": "2022-08-18T21:06:03.885729",
     "status": "completed"
    },
    "tags": []
   },
   "source": [
    "# Reshaping with multi level index\n",
    "- A MultiIndex, also known as multi-level index, allows us to store and manipulate multidimensional data in simple DataFrames.\n",
    "- set the inplace argument to True to change the original DataFrame directly.\n",
    "- The stack() method will reshape the DataFrame with a multi-level index by converting it into a stacked form **Or** rearranging the innermost column index to become the innermost row index.\n",
    "- unstacking means rearranging the innermost row index to become the innermost column index.\n",
    "\n",
    "\n",
    "- We use **level** argument to indicate a specific column to stack it.\n",
    "\n",
    "\n",
    "\n"
   ]
  },
  {
   "cell_type": "markdown",
   "id": "568645fc",
   "metadata": {
    "papermill": {
     "duration": 0.003491,
     "end_time": "2022-08-18T21:06:03.896397",
     "exception": false,
     "start_time": "2022-08-18T21:06:03.892906",
     "status": "completed"
    },
    "tags": []
   },
   "source": [
    "# Probability mass functions\n",
    "- **Pmf**: An alternative is a probability mass function, or PMF, that contains the unique values in the dataset and how often each one appears.\n"
   ]
  },
  {
   "cell_type": "markdown",
   "id": "142f25f8",
   "metadata": {
    "papermill": {
     "duration": 0.003515,
     "end_time": "2022-08-18T21:06:03.903657",
     "exception": false,
     "start_time": "2022-08-18T21:06:03.900142",
     "status": "completed"
    },
    "tags": []
   },
   "source": [
    "# instructions for analysis data \n",
    "- explore your dataset and reshape it using basic steps, such as setting different indices, filtering columns and flipping the DataFrame."
   ]
  }
 ],
 "metadata": {
  "kernelspec": {
   "display_name": "Python 3",
   "language": "python",
   "name": "python3"
  },
  "language_info": {
   "codemirror_mode": {
    "name": "ipython",
    "version": 3
   },
   "file_extension": ".py",
   "mimetype": "text/x-python",
   "name": "python",
   "nbconvert_exporter": "python",
   "pygments_lexer": "ipython3",
   "version": "3.7.12"
  },
  "papermill": {
   "default_parameters": {},
   "duration": 10.186269,
   "end_time": "2022-08-18T21:06:04.531417",
   "environment_variables": {},
   "exception": null,
   "input_path": "__notebook__.ipynb",
   "output_path": "__notebook__.ipynb",
   "parameters": {},
   "start_time": "2022-08-18T21:05:54.345148",
   "version": "2.3.4"
  }
 },
 "nbformat": 4,
 "nbformat_minor": 5
}
