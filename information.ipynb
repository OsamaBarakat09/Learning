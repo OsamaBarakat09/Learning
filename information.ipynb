{
 "cells": [
  {
   "cell_type": "markdown",
   "id": "f64cefac",
   "metadata": {
    "_cell_guid": "b1076dfc-b9ad-4769-8c92-a6c4dae69d19",
    "_uuid": "8f2839f25d086af736a60e9eeb907d3b93b6e0e5",
    "papermill": {
     "duration": 0.002388,
     "end_time": "2022-08-06T05:40:21.527814",
     "exception": false,
     "start_time": "2022-08-06T05:40:21.525426",
     "status": "completed"
    },
    "tags": []
   },
   "source": [
    "* Api\n",
    "- https://www.ibm.com/cloud/learn/api\n",
    "- https://www.springboard.com/blog/data-science/top-apis-for-data-scientists/\n",
    "- https://blog.hubspot.com/website/how-to-use-twitter-api\n",
    "- https://developer.twitter.com/en\n",
    "- we pull data from API in the form of Json file format.\n",
    "- An API is a set of protocols and routines for building and interacting with software applications.\n",
    "- API is an acronym and is short for Application Program interface.\n",
    "- It is common to pull data from APIs in the JSON file format.\n",
    "- An API is a bunch of code that allows two software programs to communicate with each other.\n",
    "\n"
   ]
  },
  {
   "cell_type": "markdown",
   "id": "12769446",
   "metadata": {
    "papermill": {
     "duration": 0.001027,
     "end_time": "2022-08-06T05:40:21.530403",
     "exception": false,
     "start_time": "2022-08-06T05:40:21.529376",
     "status": "completed"
    },
    "tags": []
   },
   "source": [
    "- using for loop besr of while loop because you can know number or repate time "
   ]
  }
 ],
 "metadata": {
  "kernelspec": {
   "display_name": "Python 3",
   "language": "python",
   "name": "python3"
  },
  "language_info": {
   "codemirror_mode": {
    "name": "ipython",
    "version": 3
   },
   "file_extension": ".py",
   "mimetype": "text/x-python",
   "name": "python",
   "nbconvert_exporter": "python",
   "pygments_lexer": "ipython3",
   "version": "3.7.12"
  },
  "papermill": {
   "default_parameters": {},
   "duration": 9.766413,
   "end_time": "2022-08-06T05:40:22.154060",
   "environment_variables": {},
   "exception": null,
   "input_path": "__notebook__.ipynb",
   "output_path": "__notebook__.ipynb",
   "parameters": {},
   "start_time": "2022-08-06T05:40:12.387647",
   "version": "2.3.4"
  }
 },
 "nbformat": 4,
 "nbformat_minor": 5
}
