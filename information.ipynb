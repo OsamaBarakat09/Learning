{
 "cells": [
  {
   "cell_type": "markdown",
   "id": "27785b59",
   "metadata": {
    "_cell_guid": "b1076dfc-b9ad-4769-8c92-a6c4dae69d19",
    "_uuid": "8f2839f25d086af736a60e9eeb907d3b93b6e0e5",
    "papermill": {
     "duration": 0.002293,
     "end_time": "2022-08-11T18:19:08.562082",
     "exception": false,
     "start_time": "2022-08-11T18:19:08.559789",
     "status": "completed"
    },
    "tags": []
   },
   "source": [
    "* Api\n",
    "- https://www.ibm.com/cloud/learn/api\n",
    "- https://www.springboard.com/blog/data-science/top-apis-for-data-scientists/\n",
    "- https://blog.hubspot.com/website/how-to-use-twitter-api\n",
    "- https://developer.twitter.com/en\n",
    "- we pull data from API in the form of Json file format.\n",
    "- An API is a set of protocols and routines for building and interacting with software applications.\n",
    "- API is an acronym and is short for Application Program interface.\n",
    "- It is common to pull data from APIs in the JSON file format.\n",
    "- An API is a bunch of code that allows two software programs to communicate with each other.\n",
    "\n"
   ]
  },
  {
   "cell_type": "markdown",
   "id": "c1e5b9cd",
   "metadata": {
    "papermill": {
     "duration": 0.001173,
     "end_time": "2022-08-11T18:19:08.564782",
     "exception": false,
     "start_time": "2022-08-11T18:19:08.563609",
     "status": "completed"
    },
    "tags": []
   },
   "source": [
    "* Data Cleaning\n",
    "-- You can think of **inconsistent category data** as an action that can happen or not, if an action can happen then it is not considered an inconsistent category and vice versa.\n",
    "-- str.strip() suggests you are stripping characters from a string.\n",
    "-- **Cross field validation** is the use of multiple fields in your dataset to sanity check.\n",
    "* the integrity of your data\n",
    "-- Missing Completely at Random: No systematic relationship between a column's missing values and other or own values.\n",
    "-- Missing at Random: There is a systematic relationship between a column's missing values and other observed values.\n",
    "-- Missing not at Random: There is a systematic relationship between a column's missing values and unobserved values.\n",
    "\n"
   ]
  },
  {
   "cell_type": "markdown",
   "id": "e67858b9",
   "metadata": {
    "papermill": {
     "duration": 0.001237,
     "end_time": "2022-08-11T18:19:08.567360",
     "exception": false,
     "start_time": "2022-08-11T18:19:08.566123",
     "status": "completed"
    },
    "tags": []
   },
   "source": [
    "- Generally information\n",
    "-- using for loop best of while loop because you can know number or repate time "
   ]
  },
  {
   "cell_type": "markdown",
   "id": "3ceaf9cb",
   "metadata": {
    "papermill": {
     "duration": 0.001145,
     "end_time": "2022-08-11T18:19:08.569831",
     "exception": false,
     "start_time": "2022-08-11T18:19:08.568686",
     "status": "completed"
    },
    "tags": []
   },
   "source": []
  },
  {
   "cell_type": "markdown",
   "id": "59dcb108",
   "metadata": {
    "papermill": {
     "duration": 0.001146,
     "end_time": "2022-08-11T18:19:08.572315",
     "exception": false,
     "start_time": "2022-08-11T18:19:08.571169",
     "status": "completed"
    },
    "tags": []
   },
   "source": [
    "* Trading\n",
    "-- https://www.investopedia.com/learn-how-to-trade-the-market-in-5-steps-4692230\n"
   ]
  }
 ],
 "metadata": {
  "kernelspec": {
   "display_name": "Python 3",
   "language": "python",
   "name": "python3"
  },
  "language_info": {
   "codemirror_mode": {
    "name": "ipython",
    "version": 3
   },
   "file_extension": ".py",
   "mimetype": "text/x-python",
   "name": "python",
   "nbconvert_exporter": "python",
   "pygments_lexer": "ipython3",
   "version": "3.7.12"
  },
  "papermill": {
   "default_parameters": {},
   "duration": 8.353472,
   "end_time": "2022-08-11T18:19:09.193384",
   "environment_variables": {},
   "exception": null,
   "input_path": "__notebook__.ipynb",
   "output_path": "__notebook__.ipynb",
   "parameters": {},
   "start_time": "2022-08-11T18:19:00.839912",
   "version": "2.3.4"
  }
 },
 "nbformat": 4,
 "nbformat_minor": 5
}
