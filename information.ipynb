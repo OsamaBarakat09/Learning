{
 "cells": [
  {
   "cell_type": "markdown",
   "id": "197458dc",
   "metadata": {
    "_cell_guid": "b1076dfc-b9ad-4769-8c92-a6c4dae69d19",
    "_uuid": "8f2839f25d086af736a60e9eeb907d3b93b6e0e5",
    "papermill": {
     "duration": 0.003246,
     "end_time": "2022-08-13T04:19:24.533037",
     "exception": false,
     "start_time": "2022-08-13T04:19:24.529791",
     "status": "completed"
    },
    "tags": []
   },
   "source": [
    "* Api\n",
    "- https://www.ibm.com/cloud/learn/api\n",
    "- https://www.springboard.com/blog/data-science/top-apis-for-data-scientists/\n",
    "- https://blog.hubspot.com/website/how-to-use-twitter-api\n",
    "- https://developer.twitter.com/en\n",
    "- we pull data from API in the form of Json file format.\n",
    "- An API is a set of protocols and routines for building and interacting with software applications.\n",
    "- API is an acronym and is short for Application Program interface.\n",
    "- It is common to pull data from APIs in the JSON file format.\n",
    "- An API is a bunch of code that allows two software programs to communicate with each other.\n",
    "\n"
   ]
  },
  {
   "cell_type": "markdown",
   "id": "b1baec95",
   "metadata": {
    "papermill": {
     "duration": 0.001994,
     "end_time": "2022-08-13T04:19:24.537394",
     "exception": false,
     "start_time": "2022-08-13T04:19:24.535400",
     "status": "completed"
    },
    "tags": []
   },
   "source": [
    "* Data Cleaning\n",
    "-- You can think of **inconsistent category data** as an action that can happen or not, if an action can happen then it is not considered an inconsistent category and vice versa.\n",
    "-- str.strip() suggests you are stripping characters from a string.\n",
    "-- **Cross field validation** is the use of multiple fields in your dataset to sanity check.\n",
    "* the integrity of your data\n",
    "-- Missing Completely at Random: No systematic relationship between a column's missing values and other or own values.\n",
    "-- Missing at Random: There is a systematic relationship between a column's missing values and other observed values.\n",
    "-- Missing not at Random: There is a systematic relationship between a column's missing values and unobserved values.\n",
    "\n"
   ]
  },
  {
   "cell_type": "markdown",
   "id": "5d7c713c",
   "metadata": {
    "papermill": {
     "duration": 0.001871,
     "end_time": "2022-08-13T04:19:24.541386",
     "exception": false,
     "start_time": "2022-08-13T04:19:24.539515",
     "status": "completed"
    },
    "tags": []
   },
   "source": [
    "- Generally information\n",
    "-- using for loop best of while loop because you can know number or repate time "
   ]
  },
  {
   "cell_type": "markdown",
   "id": "eac47da8",
   "metadata": {
    "papermill": {
     "duration": 0.001864,
     "end_time": "2022-08-13T04:19:24.545328",
     "exception": false,
     "start_time": "2022-08-13T04:19:24.543464",
     "status": "completed"
    },
    "tags": []
   },
   "source": [
    "* Data analysis\n",
    "-- https://hevodata.com/learn/sql-for-data-analysis/"
   ]
  },
  {
   "cell_type": "markdown",
   "id": "79bc47ff",
   "metadata": {
    "papermill": {
     "duration": 0.001867,
     "end_time": "2022-08-13T04:19:24.549276",
     "exception": false,
     "start_time": "2022-08-13T04:19:24.547409",
     "status": "completed"
    },
    "tags": []
   },
   "source": [
    "* Trading\n",
    "-- https://www.investopedia.com/learn-how-to-trade-the-market-in-5-steps-4692230\n"
   ]
  },
  {
   "cell_type": "markdown",
   "id": "9c3a4e65",
   "metadata": {
    "papermill": {
     "duration": 0.001857,
     "end_time": "2022-08-13T04:19:24.553233",
     "exception": false,
     "start_time": "2022-08-13T04:19:24.551376",
     "status": "completed"
    },
    "tags": []
   },
   "source": [
    "* SQL\n",
    "-- https://www.datacamp.com/tutorial/tutorial-how-to-execute-sql-queries-in-r-and-python"
   ]
  },
  {
   "cell_type": "markdown",
   "id": "353c9feb",
   "metadata": {
    "papermill": {
     "duration": 0.001884,
     "end_time": "2022-08-13T04:19:24.557284",
     "exception": false,
     "start_time": "2022-08-13T04:19:24.555400",
     "status": "completed"
    },
    "tags": []
   },
   "source": []
  },
  {
   "cell_type": "markdown",
   "id": "7b62530a",
   "metadata": {
    "papermill": {
     "duration": 0.001867,
     "end_time": "2022-08-13T04:19:24.561241",
     "exception": false,
     "start_time": "2022-08-13T04:19:24.559374",
     "status": "completed"
    },
    "tags": []
   },
   "source": [
    "* Data Structure (( Array ))\n",
    "* rotate array\n",
    "-- https://www.studytonight.com/python-programs/python-program-for-array-rotation\n",
    "-- https://www.geeksforgeeks.org/array-data-structure/?ref=ghm#introduction\n",
    "-- https://www.studytonight.com/python-programs/python-program-for-reversal-algorithm-for-array-rotation"
   ]
  }
 ],
 "metadata": {
  "kernelspec": {
   "display_name": "Python 3",
   "language": "python",
   "name": "python3"
  },
  "language_info": {
   "codemirror_mode": {
    "name": "ipython",
    "version": 3
   },
   "file_extension": ".py",
   "mimetype": "text/x-python",
   "name": "python",
   "nbconvert_exporter": "python",
   "pygments_lexer": "ipython3",
   "version": "3.7.12"
  },
  "papermill": {
   "default_parameters": {},
   "duration": 9.434833,
   "end_time": "2022-08-13T04:19:25.185999",
   "environment_variables": {},
   "exception": null,
   "input_path": "__notebook__.ipynb",
   "output_path": "__notebook__.ipynb",
   "parameters": {},
   "start_time": "2022-08-13T04:19:15.751166",
   "version": "2.3.4"
  }
 },
 "nbformat": 4,
 "nbformat_minor": 5
}
