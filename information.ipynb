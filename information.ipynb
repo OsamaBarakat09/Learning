{
 "cells": [
  {
   "cell_type": "markdown",
   "id": "658daddb",
   "metadata": {
    "_cell_guid": "b1076dfc-b9ad-4769-8c92-a6c4dae69d19",
    "_uuid": "8f2839f25d086af736a60e9eeb907d3b93b6e0e5",
    "papermill": {
     "duration": 0.003723,
     "end_time": "2022-08-15T04:49:43.422193",
     "exception": false,
     "start_time": "2022-08-15T04:49:43.418470",
     "status": "completed"
    },
    "tags": []
   },
   "source": [
    "* Api\n",
    "- https://www.ibm.com/cloud/learn/api\n",
    "- https://www.springboard.com/blog/data-science/top-apis-for-data-scientists/\n",
    "- https://blog.hubspot.com/website/how-to-use-twitter-api\n",
    "- https://developer.twitter.com/en\n",
    "- we pull data from API in the form of Json file format.\n",
    "- An API is a set of protocols and routines for building and interacting with software applications.\n",
    "- API is an acronym and is short for Application Program interface.\n",
    "- It is common to pull data from APIs in the JSON file format.\n",
    "- An API is a bunch of code that allows two software programs to communicate with each other.\n",
    "\n"
   ]
  },
  {
   "cell_type": "markdown",
   "id": "a15cfbea",
   "metadata": {
    "papermill": {
     "duration": 0.002431,
     "end_time": "2022-08-15T04:49:43.427529",
     "exception": false,
     "start_time": "2022-08-15T04:49:43.425098",
     "status": "completed"
    },
    "tags": []
   },
   "source": [
    "* Data Cleaning\n",
    "-- You can think of **inconsistent category data** as an action that can happen or not, if an action can happen then it is not considered an inconsistent category and vice versa.\n",
    "-- str.strip() suggests you are stripping characters from a string.\n",
    "-- **Cross field validation** is the use of multiple fields in your dataset to sanity check.\n",
    "* the integrity of your data\n",
    "-- Missing Completely at Random: No systematic relationship between a column's missing values and other or own values.\n",
    "-- Missing at Random: There is a systematic relationship between a column's missing values and other observed values.\n",
    "-- Missing not at Random: There is a systematic relationship between a column's missing values and unobserved values.\n",
    "\n"
   ]
  },
  {
   "cell_type": "markdown",
   "id": "cc984fbb",
   "metadata": {
    "papermill": {
     "duration": 0.002267,
     "end_time": "2022-08-15T04:49:43.432321",
     "exception": false,
     "start_time": "2022-08-15T04:49:43.430054",
     "status": "completed"
    },
    "tags": []
   },
   "source": [
    "- Generally information\n",
    "-- using for loop best of while loop because you can know number or repate time.\n",
    "-- don't put the first caracter name of class **o** because it consider it Zero"
   ]
  },
  {
   "cell_type": "markdown",
   "id": "e9479e36",
   "metadata": {
    "papermill": {
     "duration": 0.002216,
     "end_time": "2022-08-15T04:49:43.437007",
     "exception": false,
     "start_time": "2022-08-15T04:49:43.434791",
     "status": "completed"
    },
    "tags": []
   },
   "source": [
    "* Data analysis\n",
    "-- https://hevodata.com/learn/sql-for-data-analysis/"
   ]
  },
  {
   "cell_type": "markdown",
   "id": "48aa4694",
   "metadata": {
    "papermill": {
     "duration": 0.002175,
     "end_time": "2022-08-15T04:49:43.441679",
     "exception": false,
     "start_time": "2022-08-15T04:49:43.439504",
     "status": "completed"
    },
    "tags": []
   },
   "source": [
    "* Trading\n",
    "-- https://www.investopedia.com/learn-how-to-trade-the-market-in-5-steps-4692230\n"
   ]
  },
  {
   "cell_type": "markdown",
   "id": "cb2ed86a",
   "metadata": {
    "papermill": {
     "duration": 0.002266,
     "end_time": "2022-08-15T04:49:43.446407",
     "exception": false,
     "start_time": "2022-08-15T04:49:43.444141",
     "status": "completed"
    },
    "tags": []
   },
   "source": [
    "* SQL\n",
    "-- https://www.datacamp.com/tutorial/tutorial-how-to-execute-sql-queries-in-r-and-python"
   ]
  },
  {
   "cell_type": "markdown",
   "id": "e135aeb3",
   "metadata": {
    "papermill": {
     "duration": 0.002225,
     "end_time": "2022-08-15T04:49:43.451026",
     "exception": false,
     "start_time": "2022-08-15T04:49:43.448801",
     "status": "completed"
    },
    "tags": []
   },
   "source": [
    "* Data Structure (( Array ))\n",
    "* rotate array\n",
    "-- https://www.studytonight.com/python-programs/python-program-for-array-rotation\n",
    "-- https://www.geeksforgeeks.org/array-data-structure/?ref=ghm#introduction\n",
    "-- https://www.studytonight.com/python-programs/python-program-for-reversal-algorithm-for-array-rotation"
   ]
  },
  {
   "cell_type": "markdown",
   "id": "d26dfab4",
   "metadata": {
    "papermill": {
     "duration": 0.002166,
     "end_time": "2022-08-15T04:49:43.455538",
     "exception": false,
     "start_time": "2022-08-15T04:49:43.453372",
     "status": "completed"
    },
    "tags": []
   },
   "source": [
    "* Types of Data sets\n",
    "-- https://byjus.com/maths/data-sets/"
   ]
  },
  {
   "cell_type": "markdown",
   "id": "3197bf61",
   "metadata": {
    "papermill": {
     "duration": 0.002124,
     "end_time": "2022-08-15T04:49:43.460101",
     "exception": false,
     "start_time": "2022-08-15T04:49:43.457977",
     "status": "completed"
    },
    "tags": []
   },
   "source": [
    "* ***Reshaping Data with pandas***\n",
    "- **Wide and long data formats**\n",
    "-- you should format your data to making it appropriate for your analysis.\n",
    "* **note** : some of data sets are human readable but it's not suitable for statistical analysis.\n",
    "- **Example**: nested data and multi index level data frames both is one of **compleax structure** data frams\n",
    "- **Reshaping data**: it's transforming a data structure to adjust it for analysis.\n",
    "- **Reshape data** help you when you have compleax structures dataframs\n",
    "- type of format is **wide format** ans **long format**.\n",
    "- **Long format**: it's a better format because it can be summarize data andstructure of key value pair, and many advansed graphing and analysis data.\n"
   ]
  }
 ],
 "metadata": {
  "kernelspec": {
   "display_name": "Python 3",
   "language": "python",
   "name": "python3"
  },
  "language_info": {
   "codemirror_mode": {
    "name": "ipython",
    "version": 3
   },
   "file_extension": ".py",
   "mimetype": "text/x-python",
   "name": "python",
   "nbconvert_exporter": "python",
   "pygments_lexer": "ipython3",
   "version": "3.7.12"
  },
  "papermill": {
   "default_parameters": {},
   "duration": 11.914542,
   "end_time": "2022-08-15T04:49:44.187118",
   "environment_variables": {},
   "exception": null,
   "input_path": "__notebook__.ipynb",
   "output_path": "__notebook__.ipynb",
   "parameters": {},
   "start_time": "2022-08-15T04:49:32.272576",
   "version": "2.3.4"
  }
 },
 "nbformat": 4,
 "nbformat_minor": 5
}
