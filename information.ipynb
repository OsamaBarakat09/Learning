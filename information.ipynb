{
 "cells": [
  {
   "cell_type": "markdown",
   "id": "4ea0b1fa",
   "metadata": {
    "_cell_guid": "b1076dfc-b9ad-4769-8c92-a6c4dae69d19",
    "_uuid": "8f2839f25d086af736a60e9eeb907d3b93b6e0e5",
    "papermill": {
     "duration": 0.003977,
     "end_time": "2022-08-15T05:49:22.734062",
     "exception": false,
     "start_time": "2022-08-15T05:49:22.730085",
     "status": "completed"
    },
    "tags": []
   },
   "source": [
    "* Api\n",
    "- https://www.ibm.com/cloud/learn/api\n",
    "- https://www.springboard.com/blog/data-science/top-apis-for-data-scientists/\n",
    "- https://blog.hubspot.com/website/how-to-use-twitter-api\n",
    "- https://developer.twitter.com/en\n",
    "- we pull data from API in the form of Json file format.\n",
    "- An API is a set of protocols and routines for building and interacting with software applications.\n",
    "- API is an acronym and is short for Application Program interface.\n",
    "- It is common to pull data from APIs in the JSON file format.\n",
    "- An API is a bunch of code that allows two software programs to communicate with each other.\n",
    "\n"
   ]
  },
  {
   "cell_type": "markdown",
   "id": "2c76b9be",
   "metadata": {
    "papermill": {
     "duration": 0.002427,
     "end_time": "2022-08-15T05:49:22.739292",
     "exception": false,
     "start_time": "2022-08-15T05:49:22.736865",
     "status": "completed"
    },
    "tags": []
   },
   "source": [
    "* Data Cleaning\n",
    "-- You can think of **inconsistent category data** as an action that can happen or not, if an action can happen then it is not considered an inconsistent category and vice versa.\n",
    "-- str.strip() suggests you are stripping characters from a string.\n",
    "-- **Cross field validation** is the use of multiple fields in your dataset to sanity check.\n",
    "* the integrity of your data\n",
    "-- Missing Completely at Random: No systematic relationship between a column's missing values and other or own values.\n",
    "-- Missing at Random: There is a systematic relationship between a column's missing values and other observed values.\n",
    "-- Missing not at Random: There is a systematic relationship between a column's missing values and unobserved values.\n",
    "\n"
   ]
  },
  {
   "cell_type": "markdown",
   "id": "6ebaad9b",
   "metadata": {
    "papermill": {
     "duration": 0.002292,
     "end_time": "2022-08-15T05:49:22.744244",
     "exception": false,
     "start_time": "2022-08-15T05:49:22.741952",
     "status": "completed"
    },
    "tags": []
   },
   "source": [
    "- Generally information\n",
    "-- using for loop best of while loop because you can know number or repate time.\n",
    "-- don't put the first caracter name of class **o** because it consider it Zero"
   ]
  },
  {
   "cell_type": "markdown",
   "id": "071c07a3",
   "metadata": {
    "papermill": {
     "duration": 0.00224,
     "end_time": "2022-08-15T05:49:22.748984",
     "exception": false,
     "start_time": "2022-08-15T05:49:22.746744",
     "status": "completed"
    },
    "tags": []
   },
   "source": [
    "* Data analysis\n",
    "-- https://hevodata.com/learn/sql-for-data-analysis/"
   ]
  },
  {
   "cell_type": "markdown",
   "id": "888eaf70",
   "metadata": {
    "papermill": {
     "duration": 0.002271,
     "end_time": "2022-08-15T05:49:22.753742",
     "exception": false,
     "start_time": "2022-08-15T05:49:22.751471",
     "status": "completed"
    },
    "tags": []
   },
   "source": [
    "* Trading\n",
    "-- https://www.investopedia.com/learn-how-to-trade-the-market-in-5-steps-4692230\n"
   ]
  },
  {
   "cell_type": "markdown",
   "id": "1ef94949",
   "metadata": {
    "papermill": {
     "duration": 0.002249,
     "end_time": "2022-08-15T05:49:22.758547",
     "exception": false,
     "start_time": "2022-08-15T05:49:22.756298",
     "status": "completed"
    },
    "tags": []
   },
   "source": [
    "* SQL\n",
    "-- https://www.datacamp.com/tutorial/tutorial-how-to-execute-sql-queries-in-r-and-python"
   ]
  },
  {
   "cell_type": "markdown",
   "id": "c5e98494",
   "metadata": {
    "papermill": {
     "duration": 0.00223,
     "end_time": "2022-08-15T05:49:22.763250",
     "exception": false,
     "start_time": "2022-08-15T05:49:22.761020",
     "status": "completed"
    },
    "tags": []
   },
   "source": [
    "* Data Structure (( Array ))\n",
    "* rotate array\n",
    "-- https://www.studytonight.com/python-programs/python-program-for-array-rotation\n",
    "-- https://www.geeksforgeeks.org/array-data-structure/?ref=ghm#introduction\n",
    "-- https://www.studytonight.com/python-programs/python-program-for-reversal-algorithm-for-array-rotation"
   ]
  },
  {
   "cell_type": "markdown",
   "id": "e5f6cfee",
   "metadata": {
    "papermill": {
     "duration": 0.002279,
     "end_time": "2022-08-15T05:49:22.768013",
     "exception": false,
     "start_time": "2022-08-15T05:49:22.765734",
     "status": "completed"
    },
    "tags": []
   },
   "source": [
    "* Types of Data sets\n",
    "-- https://byjus.com/maths/data-sets/"
   ]
  },
  {
   "cell_type": "markdown",
   "id": "43cd38f7",
   "metadata": {
    "papermill": {
     "duration": 0.002289,
     "end_time": "2022-08-15T05:49:22.772817",
     "exception": false,
     "start_time": "2022-08-15T05:49:22.770528",
     "status": "completed"
    },
    "tags": []
   },
   "source": [
    "# Reshaping Data with pandas\n",
    "# Wide and long data formats\n",
    "-- you should format your data to making it appropriate for your analysis.\n",
    "* **note** : some of data sets are human readable but it's not suitable for statistical analysis.\n",
    "- **Example**: nested data and multi index level data frames both is one of **compleax structure** data frams\n",
    "- **Reshaping data**: it's transforming a data structure to adjust it for analysis **Or** transforming the data so columns become rows and visa vera.\n",
    "- **Reshape data** help you when you have compleax structures dataframs\n",
    "- **Format**\n",
    "-- **Wide format**: it's better format for simple statistics such as calculating the mean and imputing missing values.\n",
    "** - In the wide format, a subject’s repeated responses will be in a single row, and each response is in a separate column.\n",
    "\n",
    "\n",
    "- **Long format**: it's a better format because it can be summarize data andstructure of key value pair, and many advansed graphing and analysis data.\n",
    "- **Transpose**: filp the dataset where columns became rows and visa vera.\n",
    "-- using transpose let you intersting by each feature in datasets.\n",
    "- So the difference between long format and wide format is like the difference between if you have a datasets about student in class and you want to now the feature of each charactristic of each student alone and the feature of student, the type one is long format and type two is wide format.\n",
    "\n",
    "* https://www.theanalysisfactor.com/wide-and-long-data/\n",
    "# Reshaping using pivot method\n"
   ]
  },
  {
   "cell_type": "markdown",
   "id": "6251df08",
   "metadata": {
    "papermill": {
     "duration": 0.002313,
     "end_time": "2022-08-15T05:49:22.777750",
     "exception": false,
     "start_time": "2022-08-15T05:49:22.775437",
     "status": "completed"
    },
    "tags": []
   },
   "source": [
    "# instructions for analysis data \n",
    "- explore your dataset and reshape it using basic steps, such as setting different indices, filtering columns and flipping the DataFrame."
   ]
  }
 ],
 "metadata": {
  "kernelspec": {
   "display_name": "Python 3",
   "language": "python",
   "name": "python3"
  },
  "language_info": {
   "codemirror_mode": {
    "name": "ipython",
    "version": 3
   },
   "file_extension": ".py",
   "mimetype": "text/x-python",
   "name": "python",
   "nbconvert_exporter": "python",
   "pygments_lexer": "ipython3",
   "version": "3.7.12"
  },
  "papermill": {
   "default_parameters": {},
   "duration": 11.08304,
   "end_time": "2022-08-15T05:49:23.505234",
   "environment_variables": {},
   "exception": null,
   "input_path": "__notebook__.ipynb",
   "output_path": "__notebook__.ipynb",
   "parameters": {},
   "start_time": "2022-08-15T05:49:12.422194",
   "version": "2.3.4"
  }
 },
 "nbformat": 4,
 "nbformat_minor": 5
}
