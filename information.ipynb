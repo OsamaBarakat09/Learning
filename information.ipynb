{
 "cells": [
  {
   "cell_type": "markdown",
   "id": "7a64e328",
   "metadata": {
    "_cell_guid": "b1076dfc-b9ad-4769-8c92-a6c4dae69d19",
    "_uuid": "8f2839f25d086af736a60e9eeb907d3b93b6e0e5",
    "papermill": {
     "duration": 0.004272,
     "end_time": "2022-08-16T20:24:38.320360",
     "exception": false,
     "start_time": "2022-08-16T20:24:38.316088",
     "status": "completed"
    },
    "tags": []
   },
   "source": [
    "* Api\n",
    "- https://www.ibm.com/cloud/learn/api\n",
    "- https://www.springboard.com/blog/data-science/top-apis-for-data-scientists/\n",
    "- https://blog.hubspot.com/website/how-to-use-twitter-api\n",
    "- https://developer.twitter.com/en\n",
    "- we pull data from API in the form of Json file format.\n",
    "- An API is a set of protocols and routines for building and interacting with software applications.\n",
    "- API is an acronym and is short for Application Program interface.\n",
    "- It is common to pull data from APIs in the JSON file format.\n",
    "- An API is a bunch of code that allows two software programs to communicate with each other.\n",
    "\n"
   ]
  },
  {
   "cell_type": "markdown",
   "id": "2f080fa2",
   "metadata": {
    "papermill": {
     "duration": 0.002792,
     "end_time": "2022-08-16T20:24:38.326547",
     "exception": false,
     "start_time": "2022-08-16T20:24:38.323755",
     "status": "completed"
    },
    "tags": []
   },
   "source": [
    "* Data Cleaning\n",
    "-- You can think of **inconsistent category data** as an action that can happen or not, if an action can happen then it is not considered an inconsistent category and vice versa.\n",
    "-- str.strip() suggests you are stripping characters from a string.\n",
    "-- **Cross field validation** is the use of multiple fields in your dataset to sanity check.\n",
    "* the integrity of your data\n",
    "-- Missing Completely at Random: No systematic relationship between a column's missing values and other or own values.\n",
    "-- Missing at Random: There is a systematic relationship between a column's missing values and other observed values.\n",
    "-- Missing not at Random: There is a systematic relationship between a column's missing values and unobserved values.\n",
    "\n"
   ]
  },
  {
   "cell_type": "markdown",
   "id": "c159ab14",
   "metadata": {
    "papermill": {
     "duration": 0.002734,
     "end_time": "2022-08-16T20:24:38.332297",
     "exception": false,
     "start_time": "2022-08-16T20:24:38.329563",
     "status": "completed"
    },
    "tags": []
   },
   "source": [
    "- Generally information\n",
    "-- using for loop best of while loop because you can know number or repate time.\n",
    "-- don't put the first caracter name of class **o** because it consider it Zero.\n",
    "-- DBMS: it's an abreviation of Database Mangement System\n",
    "- **axis**\n",
    "-- if we have a block of datasets consists of columns and rows and we want to calculate the mean\n",
    "** - if axis equal 0 the interpreter will calculate the mean of the frist row block.\n",
    "** - if axis equal 1 the interpreter will calculate the mean of the frist column block.\n"
   ]
  },
  {
   "cell_type": "markdown",
   "id": "69fbf0fb",
   "metadata": {
    "papermill": {
     "duration": 0.002687,
     "end_time": "2022-08-16T20:24:38.337919",
     "exception": false,
     "start_time": "2022-08-16T20:24:38.335232",
     "status": "completed"
    },
    "tags": []
   },
   "source": [
    "* Data analysis\n",
    "-- https://hevodata.com/learn/sql-for-data-analysis/"
   ]
  },
  {
   "cell_type": "markdown",
   "id": "07b74af5",
   "metadata": {
    "papermill": {
     "duration": 0.00299,
     "end_time": "2022-08-16T20:24:38.344399",
     "exception": false,
     "start_time": "2022-08-16T20:24:38.341409",
     "status": "completed"
    },
    "tags": []
   },
   "source": [
    "* Trading\n",
    "-- https://www.investopedia.com/learn-how-to-trade-the-market-in-5-steps-4692230\n"
   ]
  },
  {
   "cell_type": "markdown",
   "id": "daf838a7",
   "metadata": {
    "papermill": {
     "duration": 0.003454,
     "end_time": "2022-08-16T20:24:38.352404",
     "exception": false,
     "start_time": "2022-08-16T20:24:38.348950",
     "status": "completed"
    },
    "tags": []
   },
   "source": [
    "* SQL\n",
    "-- https://www.datacamp.com/tutorial/tutorial-how-to-execute-sql-queries-in-r-and-python"
   ]
  },
  {
   "cell_type": "markdown",
   "id": "7350d998",
   "metadata": {
    "papermill": {
     "duration": 0.002934,
     "end_time": "2022-08-16T20:24:38.358387",
     "exception": false,
     "start_time": "2022-08-16T20:24:38.355453",
     "status": "completed"
    },
    "tags": []
   },
   "source": [
    "* Data Structure (( Array ))\n",
    "* rotate array\n",
    "-- https://www.studytonight.com/python-programs/python-program-for-array-rotation\n",
    "-- https://www.geeksforgeeks.org/array-data-structure/?ref=ghm#introduction\n",
    "-- https://www.studytonight.com/python-programs/python-program-for-reversal-algorithm-for-array-rotation"
   ]
  },
  {
   "cell_type": "markdown",
   "id": "8a8b7a1c",
   "metadata": {
    "papermill": {
     "duration": 0.003465,
     "end_time": "2022-08-16T20:24:38.364907",
     "exception": false,
     "start_time": "2022-08-16T20:24:38.361442",
     "status": "completed"
    },
    "tags": []
   },
   "source": [
    "* Types of Data sets\n",
    "-- https://byjus.com/maths/data-sets/"
   ]
  },
  {
   "cell_type": "markdown",
   "id": "036e3950",
   "metadata": {
    "papermill": {
     "duration": 0.002836,
     "end_time": "2022-08-16T20:24:38.370780",
     "exception": false,
     "start_time": "2022-08-16T20:24:38.367944",
     "status": "completed"
    },
    "tags": []
   },
   "source": [
    "# Reshaping Data with pandas\n",
    "# Wide and long data formats\n",
    "-- you should format your data to making it appropriate for your analysis.\n",
    "* **note** : some of data sets are human readable but it's not suitable for statistical analysis.\n",
    "- **Example**: nested data and multi index level data frames both is one of **compleax structure** data frams\n",
    "- **Reshaping data**: it's transforming a data structure to adjust it for analysis **Or** transforming the data so columns become rows and visa vera.\n",
    "- **Reshape data** help you when you have compleax structures dataframs\n",
    "- **Format**\n",
    "-- **Wide format**: it's better format for simple statistics such as calculating the mean and imputing missing values.\n",
    "** - In the wide format, a subject’s repeated responses will be in a single row, and each response is in a separate column.\n",
    "-- **Long format**: it's a better format because it can be summarize data and structure of key value pair, and many advansed graphing and analysis data.\n",
    "** - The long format it's most suitable to store a clean datasets\n",
    "- **Transpose**: filp the dataset where columns became rows and visa vera.\n",
    "-- using transpose let you intersting by each feature in datasets.\n",
    "- So the difference between long format and wide format is like the difference between if you have a datasets about students in class and you want to now the feature of each charactristic of each student and the students themselves, the first type is long format and second type is wide format.\n",
    "\n",
    "- **Reshaping data**\n",
    "-- use transpose() function to filp datasets where it convert row to columns and vesa vera but it's not helpful.\n",
    "- **Wide to long trasformation**\n",
    "-- melt() and wide_to_long   functions.\n",
    "- **long to wide format**\n",
    "-- pivot() and pivot_table() methods.\n",
    "\n",
    "\n",
    "- long format ***And*** Wide format ==>> https://www.theanalysisfactor.com/wide-and-long-data/\n",
    "- Data types ***And*** Data formats ==>> https://www.ibm.com/docs/en/i/7.2?topic=definitions-data-types-data-formats\n",
    "- Nested data ==>> https://www.cambridge.org/core/books/abs/cambridge-handbook-of-research-methods-in-clinical-psychology/analyzing-nested-data/CF2278DC769DA418F8AE39C6FD8643F8\n",
    "- ndex data ==>> https://www.guru99.com/indexing-in-database.html#:~:text=Multilevel%20Indexing%20in%20Database%20is,sparse%20base%20on%20that%20file.\n",
    "\n"
   ]
  },
  {
   "cell_type": "markdown",
   "id": "4bba9d0e",
   "metadata": {
    "papermill": {
     "duration": 0.002804,
     "end_time": "2022-08-16T20:24:38.376621",
     "exception": false,
     "start_time": "2022-08-16T20:24:38.373817",
     "status": "completed"
    },
    "tags": []
   },
   "source": [
    "# Reshaping using pivot method\n",
    "- **Important convert long format to wide**\n",
    "** - Demonstrate relationship between two columns\n",
    "** - Time series operations with the variables\n",
    "** - Operation that requires columns to be the unique variable\n",
    "- **Pivot table** takes three arguments index, columns and values\n",
    "- If the value in pivot table containe a list of values the resulting DataFrame have a hierarchical column index.\n",
    "- if we want extend pivot tabel we doing that by omiting value argument.\n",
    "- **pivot table** is a DataFrame that contains statistics that summarizes the data from a larger DataFrame.\n",
    "** - Convert data fram to a long format\n",
    "** - general purpose pivoting\n",
    "** - index/column pair must be unique\n",
    "** - can't aggregate values\n",
    "- If we want **for example the count** of all values in pivot table we can use the **margins** argument and put it equal True.\n",
    "- How do we know if we should apply pivot or pivot table? Ask yourself. Does the DataFrame have more than one value for each index/column pair? Do I need a multi-level index or a summary statistics of a large DataFrame? If the answer to any of these questions is yes, then you should use pivot table.\n",
    "- **melt**\n",
    "** - Unpivot a DataFrame from wide to long format, optionally leaving identifiers set.\n",
    "\n",
    "- **pivot**\n",
    "** - Create a spreadsheet-style pivot table as a DataFrame.\n",
    "\n",
    "- **DataFrame.pivot**\n",
    "** - Pivot without aggregation that can handle non-numeric data.\n",
    "\n",
    "- **DataFrame.pivot_table**\n",
    "** - Generalization of pivot that can handle duplicate values for one index/column pair.\n",
    "\n",
    "- **DataFrame.unstack**\n",
    "** - Pivot based on the index values instead of a column.\n",
    "\n",
    "\n",
    "\n"
   ]
  },
  {
   "cell_type": "markdown",
   "id": "8d1a2cf6",
   "metadata": {
    "papermill": {
     "duration": 0.003351,
     "end_time": "2022-08-16T20:24:38.383049",
     "exception": false,
     "start_time": "2022-08-16T20:24:38.379698",
     "status": "completed"
    },
    "tags": []
   },
   "source": [
    "# Reshaping \n",
    "- When we have a dataset that have multipul columns with the same name we can't convert it wide to long with melt then we can use wide_to_long to doing this.\n",
    "- We use **sep** when we have a seperate between the prefix in the name columns.\n",
    "- **suffix argument** We pass expression: by backslash w plus. This expression indicates to pandas that the name of the column ends in a word. \n"
   ]
  },
  {
   "cell_type": "markdown",
   "id": "0ba58d25",
   "metadata": {
    "papermill": {
     "duration": 0.002997,
     "end_time": "2022-08-16T20:24:38.389246",
     "exception": false,
     "start_time": "2022-08-16T20:24:38.386249",
     "status": "completed"
    },
    "tags": []
   },
   "source": [
    "# Reshaping with multi level index\n",
    "- A MultiIndex, also known as multi-level index, allows us to store and manipulate multidimensional data in simple DataFrames.\n",
    "- set the inplace argument to True to change the original DataFrame directly.\n",
    "- The stack() method will reshape the DataFrame with a multi-level index by converting it into a stacked form **Or** rearranging the innermost column index to become the innermost row index.\n",
    "- unstacking means rearranging the innermost row index to become the innermost column index.\n",
    "\n",
    "\n",
    "- We use **level** argument to indicate a specific column to stack it.\n",
    "\n",
    "\n",
    "\n"
   ]
  },
  {
   "cell_type": "markdown",
   "id": "a781e1c8",
   "metadata": {
    "papermill": {
     "duration": 0.00398,
     "end_time": "2022-08-16T20:24:38.398175",
     "exception": false,
     "start_time": "2022-08-16T20:24:38.394195",
     "status": "completed"
    },
    "tags": []
   },
   "source": [
    "# instructions for analysis data \n",
    "- explore your dataset and reshape it using basic steps, such as setting different indices, filtering columns and flipping the DataFrame."
   ]
  }
 ],
 "metadata": {
  "kernelspec": {
   "display_name": "Python 3",
   "language": "python",
   "name": "python3"
  },
  "language_info": {
   "codemirror_mode": {
    "name": "ipython",
    "version": 3
   },
   "file_extension": ".py",
   "mimetype": "text/x-python",
   "name": "python",
   "nbconvert_exporter": "python",
   "pygments_lexer": "ipython3",
   "version": "3.7.12"
  },
  "papermill": {
   "default_parameters": {},
   "duration": 9.625061,
   "end_time": "2022-08-16T20:24:39.126922",
   "environment_variables": {},
   "exception": null,
   "input_path": "__notebook__.ipynb",
   "output_path": "__notebook__.ipynb",
   "parameters": {},
   "start_time": "2022-08-16T20:24:29.501861",
   "version": "2.3.4"
  }
 },
 "nbformat": 4,
 "nbformat_minor": 5
}
