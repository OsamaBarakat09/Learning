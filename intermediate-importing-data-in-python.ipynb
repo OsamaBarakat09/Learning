{
 "cells": [
  {
   "cell_type": "code",
   "execution_count": 1,
   "id": "f4e21eed",
   "metadata": {
    "_cell_guid": "b1076dfc-b9ad-4769-8c92-a6c4dae69d19",
    "_uuid": "8f2839f25d086af736a60e9eeb907d3b93b6e0e5",
    "execution": {
     "iopub.execute_input": "2022-08-04T15:05:23.137700Z",
     "iopub.status.busy": "2022-08-04T15:05:23.137117Z",
     "iopub.status.idle": "2022-08-04T15:05:23.638527Z",
     "shell.execute_reply": "2022-08-04T15:05:23.637140Z"
    },
    "papermill": {
     "duration": 0.508615,
     "end_time": "2022-08-04T15:05:23.641327",
     "exception": false,
     "start_time": "2022-08-04T15:05:23.132712",
     "status": "completed"
    },
    "tags": []
   },
   "outputs": [
    {
     "name": "stdout",
     "output_type": "stream",
     "text": [
      "   fixed acidity  volatile acidity  citric acid  residual sugar  chlorides  \\\n",
      "0            7.4              0.70         0.00             1.9      0.076   \n",
      "1            7.8              0.88         0.00             2.6      0.098   \n",
      "2            7.8              0.76         0.04             2.3      0.092   \n",
      "3           11.2              0.28         0.56             1.9      0.075   \n",
      "4            7.4              0.70         0.00             1.9      0.076   \n",
      "\n",
      "   free sulfur dioxide  total sulfur dioxide  density    pH  sulphates  \\\n",
      "0                 11.0                  34.0   0.9978  3.51       0.56   \n",
      "1                 25.0                  67.0   0.9968  3.20       0.68   \n",
      "2                 15.0                  54.0   0.9970  3.26       0.65   \n",
      "3                 17.0                  60.0   0.9980  3.16       0.58   \n",
      "4                 11.0                  34.0   0.9978  3.51       0.56   \n",
      "\n",
      "   alcohol  quality  \n",
      "0      9.4        5  \n",
      "1      9.8        5  \n",
      "2      9.8        5  \n",
      "3      9.8        6  \n",
      "4      9.4        5  \n"
     ]
    }
   ],
   "source": [
    "import pandas as pd\n",
    "from urllib.request import urlretrieve\n",
    "\n",
    "def locally_use():\n",
    "    url ='https://assets.datacamp.com/production/course_1606/datasets/winequality-red.csv'\n",
    "    urlretrieve(url,'First.csv')\n",
    "    df =pd.read_csv('First.csv',sep=';')\n",
    "    print(df.head())\n",
    "    \n",
    "    \n",
    "def locally_Notuse():\n",
    "    url ='https://assets.datacamp.com/production/course_1606/datasets/winequality-red.csv'\n",
    "    df =pd.read_csv(url,sep=';')\n",
    "    print(df.head())\n",
    "    \n",
    "locally_Notuse()"
   ]
  },
  {
   "cell_type": "code",
   "execution_count": null,
   "id": "1c50d02d",
   "metadata": {
    "papermill": {
     "duration": 0.00136,
     "end_time": "2022-08-04T15:05:23.644737",
     "exception": false,
     "start_time": "2022-08-04T15:05:23.643377",
     "status": "completed"
    },
    "tags": []
   },
   "outputs": [],
   "source": []
  }
 ],
 "metadata": {
  "kernelspec": {
   "display_name": "Python 3",
   "language": "python",
   "name": "python3"
  },
  "language_info": {
   "codemirror_mode": {
    "name": "ipython",
    "version": 3
   },
   "file_extension": ".py",
   "mimetype": "text/x-python",
   "name": "python",
   "nbconvert_exporter": "python",
   "pygments_lexer": "ipython3",
   "version": "3.7.12"
  },
  "papermill": {
   "default_parameters": {},
   "duration": 10.408841,
   "end_time": "2022-08-04T15:05:24.374470",
   "environment_variables": {},
   "exception": null,
   "input_path": "__notebook__.ipynb",
   "output_path": "__notebook__.ipynb",
   "parameters": {},
   "start_time": "2022-08-04T15:05:13.965629",
   "version": "2.3.4"
  }
 },
 "nbformat": 4,
 "nbformat_minor": 5
}
